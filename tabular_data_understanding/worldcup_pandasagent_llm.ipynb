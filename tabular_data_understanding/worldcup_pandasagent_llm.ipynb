{
 "cells": [
  {
   "cell_type": "code",
   "execution_count": 1,
   "id": "aa6bccc1",
   "metadata": {},
   "outputs": [],
   "source": [
    "import pandas\n",
    "import numpy"
   ]
  },
  {
   "cell_type": "code",
   "execution_count": 2,
   "id": "be0bc8b2",
   "metadata": {},
   "outputs": [],
   "source": [
    "matches_file = \"./datasets/world_cups/world_cup_matches_v1.csv\""
   ]
  },
  {
   "cell_type": "code",
   "execution_count": 3,
   "id": "75171831",
   "metadata": {},
   "outputs": [],
   "source": [
    "# just converting every number to int, or None of not present\n",
    "matches_df = pandas.read_csv(matches_file)\n",
    "matches_df = matches_df.replace(numpy.nan, -1)"
   ]
  },
  {
   "cell_type": "code",
   "execution_count": 4,
   "id": "aa742bf1",
   "metadata": {},
   "outputs": [],
   "source": [
    "convert_matches = {'score team 1': int,\n",
    "                   'score team 2': int,\n",
    "                   'penalties team 1': int,\n",
    "                   'penalties team 2': int,\n",
    "                   'attendance': int\n",
    "                  }\n",
    "matches_df = matches_df.astype(convert_matches)"
   ]
  },
  {
   "cell_type": "code",
   "execution_count": 5,
   "id": "483c5302",
   "metadata": {},
   "outputs": [],
   "source": [
    "matches_df = matches_df.replace(-1, None)"
   ]
  },
  {
   "cell_type": "code",
   "execution_count": 6,
   "id": "7bc44a00",
   "metadata": {
    "scrolled": false
   },
   "outputs": [
    {
     "data": {
      "text/html": [
       "<div>\n",
       "<style scoped>\n",
       "    .dataframe tbody tr th:only-of-type {\n",
       "        vertical-align: middle;\n",
       "    }\n",
       "\n",
       "    .dataframe tbody tr th {\n",
       "        vertical-align: top;\n",
       "    }\n",
       "\n",
       "    .dataframe thead th {\n",
       "        text-align: right;\n",
       "    }\n",
       "</style>\n",
       "<table border=\"1\" class=\"dataframe\">\n",
       "  <thead>\n",
       "    <tr style=\"text-align: right;\">\n",
       "      <th></th>\n",
       "      <th>tournament</th>\n",
       "      <th>date</th>\n",
       "      <th>team 1</th>\n",
       "      <th>team 2</th>\n",
       "      <th>score team 1</th>\n",
       "      <th>score team 2</th>\n",
       "      <th>penalties team 1</th>\n",
       "      <th>penalties team 2</th>\n",
       "      <th>Location</th>\n",
       "      <th>phase</th>\n",
       "      <th>attendance</th>\n",
       "      <th>year</th>\n",
       "      <th>host</th>\n",
       "    </tr>\n",
       "  </thead>\n",
       "  <tbody>\n",
       "    <tr>\n",
       "      <th>0</th>\n",
       "      <td>1930 FIFA World Cup</td>\n",
       "      <td>7/13/1930</td>\n",
       "      <td>France</td>\n",
       "      <td>Mexico</td>\n",
       "      <td>4</td>\n",
       "      <td>1</td>\n",
       "      <td>None</td>\n",
       "      <td>None</td>\n",
       "      <td>Montevideo</td>\n",
       "      <td>Group stage</td>\n",
       "      <td>4444</td>\n",
       "      <td>1930</td>\n",
       "      <td>Uruguay</td>\n",
       "    </tr>\n",
       "    <tr>\n",
       "      <th>1</th>\n",
       "      <td>1930 FIFA World Cup</td>\n",
       "      <td>7/13/1930</td>\n",
       "      <td>USA</td>\n",
       "      <td>Belgium</td>\n",
       "      <td>3</td>\n",
       "      <td>0</td>\n",
       "      <td>None</td>\n",
       "      <td>None</td>\n",
       "      <td>Montevideo</td>\n",
       "      <td>Group stage</td>\n",
       "      <td>18346</td>\n",
       "      <td>1930</td>\n",
       "      <td>Uruguay</td>\n",
       "    </tr>\n",
       "    <tr>\n",
       "      <th>2</th>\n",
       "      <td>1930 FIFA World Cup</td>\n",
       "      <td>7/14/1930</td>\n",
       "      <td>Romania</td>\n",
       "      <td>Peru</td>\n",
       "      <td>3</td>\n",
       "      <td>1</td>\n",
       "      <td>None</td>\n",
       "      <td>None</td>\n",
       "      <td>Montevideo</td>\n",
       "      <td>Group stage</td>\n",
       "      <td>2549</td>\n",
       "      <td>1930</td>\n",
       "      <td>Uruguay</td>\n",
       "    </tr>\n",
       "    <tr>\n",
       "      <th>3</th>\n",
       "      <td>1930 FIFA World Cup</td>\n",
       "      <td>7/14/1930</td>\n",
       "      <td>Yugoslavia</td>\n",
       "      <td>Brazil</td>\n",
       "      <td>2</td>\n",
       "      <td>1</td>\n",
       "      <td>None</td>\n",
       "      <td>None</td>\n",
       "      <td>Montevideo</td>\n",
       "      <td>Group stage</td>\n",
       "      <td>24059</td>\n",
       "      <td>1930</td>\n",
       "      <td>Uruguay</td>\n",
       "    </tr>\n",
       "    <tr>\n",
       "      <th>4</th>\n",
       "      <td>1930 FIFA World Cup</td>\n",
       "      <td>7/15/1930</td>\n",
       "      <td>Argentina</td>\n",
       "      <td>France</td>\n",
       "      <td>1</td>\n",
       "      <td>0</td>\n",
       "      <td>None</td>\n",
       "      <td>None</td>\n",
       "      <td>Montevideo</td>\n",
       "      <td>Group stage</td>\n",
       "      <td>23409</td>\n",
       "      <td>1930</td>\n",
       "      <td>Uruguay</td>\n",
       "    </tr>\n",
       "    <tr>\n",
       "      <th>...</th>\n",
       "      <td>...</td>\n",
       "      <td>...</td>\n",
       "      <td>...</td>\n",
       "      <td>...</td>\n",
       "      <td>...</td>\n",
       "      <td>...</td>\n",
       "      <td>...</td>\n",
       "      <td>...</td>\n",
       "      <td>...</td>\n",
       "      <td>...</td>\n",
       "      <td>...</td>\n",
       "      <td>...</td>\n",
       "      <td>...</td>\n",
       "    </tr>\n",
       "    <tr>\n",
       "      <th>959</th>\n",
       "      <td>2022 FIFA World Cup</td>\n",
       "      <td>12/10/2022</td>\n",
       "      <td>Morocco</td>\n",
       "      <td>Portugal</td>\n",
       "      <td>1</td>\n",
       "      <td>0</td>\n",
       "      <td>None</td>\n",
       "      <td>None</td>\n",
       "      <td>Qatar</td>\n",
       "      <td>Quarter-finals</td>\n",
       "      <td>44198</td>\n",
       "      <td>2022</td>\n",
       "      <td>Qatar</td>\n",
       "    </tr>\n",
       "    <tr>\n",
       "      <th>960</th>\n",
       "      <td>2022 FIFA World Cup</td>\n",
       "      <td>12/13/2022</td>\n",
       "      <td>Argentina</td>\n",
       "      <td>Croatia</td>\n",
       "      <td>3</td>\n",
       "      <td>0</td>\n",
       "      <td>None</td>\n",
       "      <td>None</td>\n",
       "      <td>Qatar</td>\n",
       "      <td>Semi-finals</td>\n",
       "      <td>88966</td>\n",
       "      <td>2022</td>\n",
       "      <td>Qatar</td>\n",
       "    </tr>\n",
       "    <tr>\n",
       "      <th>961</th>\n",
       "      <td>2022 FIFA World Cup</td>\n",
       "      <td>12/14/2022</td>\n",
       "      <td>France</td>\n",
       "      <td>Morocco</td>\n",
       "      <td>2</td>\n",
       "      <td>0</td>\n",
       "      <td>None</td>\n",
       "      <td>None</td>\n",
       "      <td>Qatar</td>\n",
       "      <td>Semi-finals</td>\n",
       "      <td>68294</td>\n",
       "      <td>2022</td>\n",
       "      <td>Qatar</td>\n",
       "    </tr>\n",
       "    <tr>\n",
       "      <th>962</th>\n",
       "      <td>2022 FIFA World Cup</td>\n",
       "      <td>12/17/2022</td>\n",
       "      <td>Croatia</td>\n",
       "      <td>Morocco</td>\n",
       "      <td>2</td>\n",
       "      <td>1</td>\n",
       "      <td>None</td>\n",
       "      <td>None</td>\n",
       "      <td>Qatar</td>\n",
       "      <td>Third-place</td>\n",
       "      <td>44137</td>\n",
       "      <td>2022</td>\n",
       "      <td>Qatar</td>\n",
       "    </tr>\n",
       "    <tr>\n",
       "      <th>963</th>\n",
       "      <td>2022 FIFA World Cup</td>\n",
       "      <td>12/18/2022</td>\n",
       "      <td>Argentina</td>\n",
       "      <td>France</td>\n",
       "      <td>3</td>\n",
       "      <td>3</td>\n",
       "      <td>4</td>\n",
       "      <td>2</td>\n",
       "      <td>Qatar</td>\n",
       "      <td>Final</td>\n",
       "      <td>88966</td>\n",
       "      <td>2022</td>\n",
       "      <td>Qatar</td>\n",
       "    </tr>\n",
       "  </tbody>\n",
       "</table>\n",
       "<p>964 rows × 13 columns</p>\n",
       "</div>"
      ],
      "text/plain": [
       "              tournament        date      team 1    team 2  score team 1  \\\n",
       "0    1930 FIFA World Cup   7/13/1930      France    Mexico             4   \n",
       "1    1930 FIFA World Cup   7/13/1930         USA   Belgium             3   \n",
       "2    1930 FIFA World Cup   7/14/1930     Romania      Peru             3   \n",
       "3    1930 FIFA World Cup   7/14/1930  Yugoslavia    Brazil             2   \n",
       "4    1930 FIFA World Cup   7/15/1930   Argentina    France             1   \n",
       "..                   ...         ...         ...       ...           ...   \n",
       "959  2022 FIFA World Cup  12/10/2022    Morocco   Portugal             1   \n",
       "960  2022 FIFA World Cup  12/13/2022  Argentina    Croatia             3   \n",
       "961  2022 FIFA World Cup  12/14/2022     France    Morocco             2   \n",
       "962  2022 FIFA World Cup  12/17/2022    Croatia    Morocco             2   \n",
       "963  2022 FIFA World Cup  12/18/2022  Argentina     France             3   \n",
       "\n",
       "     score team 2 penalties team 1 penalties team 2     Location  \\\n",
       "0               1             None             None  Montevideo    \n",
       "1               0             None             None  Montevideo    \n",
       "2               1             None             None  Montevideo    \n",
       "3               1             None             None  Montevideo    \n",
       "4               0             None             None  Montevideo    \n",
       "..            ...              ...              ...          ...   \n",
       "959             0             None             None        Qatar   \n",
       "960             0             None             None        Qatar   \n",
       "961             0             None             None        Qatar   \n",
       "962             1             None             None        Qatar   \n",
       "963             3                4                2        Qatar   \n",
       "\n",
       "              phase  attendance  year     host  \n",
       "0       Group stage        4444  1930  Uruguay  \n",
       "1       Group stage       18346  1930  Uruguay  \n",
       "2       Group stage        2549  1930  Uruguay  \n",
       "3       Group stage       24059  1930  Uruguay  \n",
       "4       Group stage       23409  1930  Uruguay  \n",
       "..              ...         ...   ...      ...  \n",
       "959  Quarter-finals       44198  2022    Qatar  \n",
       "960     Semi-finals       88966  2022    Qatar  \n",
       "961     Semi-finals       68294  2022    Qatar  \n",
       "962     Third-place       44137  2022    Qatar  \n",
       "963           Final       88966  2022    Qatar  \n",
       "\n",
       "[964 rows x 13 columns]"
      ]
     },
     "execution_count": 6,
     "metadata": {},
     "output_type": "execute_result"
    }
   ],
   "source": [
    "matches_df"
   ]
  },
  {
   "cell_type": "code",
   "execution_count": 8,
   "id": "8417bcee",
   "metadata": {},
   "outputs": [],
   "source": [
    "from langchain.llms import OpenAI\n",
    "from langchain.agents import create_pandas_dataframe_agent\n",
    "from langchain.agents.agent_types import AgentType"
   ]
  },
  {
   "cell_type": "code",
   "execution_count": 9,
   "id": "9e35f6f9",
   "metadata": {},
   "outputs": [],
   "source": [
    "# make sure you have the OpenAI key\n",
    "import os\n",
    "openai_api_key = os.getenv(\"OPENAI_API_KEY\")"
   ]
  },
  {
   "cell_type": "code",
   "execution_count": 10,
   "id": "11db56aa",
   "metadata": {},
   "outputs": [],
   "source": [
    "agent = create_pandas_dataframe_agent(\n",
    "    OpenAI(temperature=0, model_name=\"text-davinci-003\", openai_api_key=openai_api_key),\n",
    "    matches_df,\n",
    "    agent=AgentType.ZERO_SHOT_REACT_DESCRIPTION,   # \"zero-shot-react-description\",\n",
    "    verbose=True)"
   ]
  },
  {
   "cell_type": "code",
   "execution_count": 11,
   "id": "7b09e0a3",
   "metadata": {},
   "outputs": [
    {
     "data": {
      "text/plain": [
       "'\\nYou are working with a pandas dataframe in Python. The name of the dataframe is `df`.\\nYou should use the tools below to answer the question posed of you:\\n\\npython_repl_ast: A Python shell. Use this to execute python commands. Input should be a valid python command. When using this tool, sometimes output is abbreviated - make sure it does not look abbreviated before using it in your answer.\\n\\nUse the following format:\\n\\nQuestion: the input question you must answer\\nThought: you should always think about what to do\\nAction: the action to take, should be one of [python_repl_ast]\\nAction Input: the input to the action\\nObservation: the result of the action\\n... (this Thought/Action/Action Input/Observation can repeat N times)\\nThought: I now know the final answer\\nFinal Answer: the final answer to the original input question\\n\\n\\nThis is the result of `print(df.head())`:\\n{df_head}\\n\\nBegin!\\nQuestion: {input}\\n{agent_scratchpad}'"
      ]
     },
     "execution_count": 11,
     "metadata": {},
     "output_type": "execute_result"
    }
   ],
   "source": [
    "agent.agent.llm_chain.prompt.template"
   ]
  },
  {
   "cell_type": "code",
   "execution_count": null,
   "id": "39a4ae0e",
   "metadata": {},
   "outputs": [],
   "source": []
  },
  {
   "cell_type": "code",
   "execution_count": 12,
   "id": "e5d1720c",
   "metadata": {},
   "outputs": [
    {
     "name": "stdout",
     "output_type": "stream",
     "text": [
      "\n",
      "\n",
      "\u001b[1m> Entering new AgentExecutor chain...\u001b[0m\n",
      "\u001b[32;1m\u001b[1;3mThought: I need to find the maximum attendance in the dataframe\n",
      "Action: python_repl_ast\n",
      "Action Input: df['attendance'].max()\u001b[0m\n",
      "Observation: \u001b[36;1m\u001b[1;3m173850\u001b[0m\n",
      "Thought:\u001b[32;1m\u001b[1;3m I need to find the row with the maximum attendance\n",
      "Action: python_repl_ast\n",
      "Action Input: df[df['attendance'] == df['attendance'].max()]\u001b[0m\n",
      "Observation: \u001b[36;1m\u001b[1;3m             tournament       date   team 1  team 2  score team 1  \\\n",
      "74  1950 FIFA World Cup  7/16/1950  Uruguay  Brazil             2   \n",
      "\n",
      "    score team 2 penalties team 1 penalties team 2         Location  phase  \\\n",
      "74             1             None             None  Rio De Janeiro   Final   \n",
      "\n",
      "    attendance  year    host  \n",
      "74      173850  1950  Brazil  \u001b[0m\n",
      "Thought:\u001b[32;1m\u001b[1;3m I now know the final answer\n",
      "Final Answer: The largest attendance was 173850 at the 1950 FIFA World Cup Final between Uruguay and Brazil in Rio De Janeiro on 7/16/1950.\u001b[0m\n",
      "\n",
      "\u001b[1m> Finished chain.\u001b[0m\n"
     ]
    },
    {
     "data": {
      "text/plain": [
       "'The largest attendance was 173850 at the 1950 FIFA World Cup Final between Uruguay and Brazil in Rio De Janeiro on 7/16/1950.'"
      ]
     },
     "execution_count": 12,
     "metadata": {},
     "output_type": "execute_result"
    }
   ],
   "source": [
    "q0 = \"what was the largest attendance among all world cup games, where and when was it?\"\n",
    "agent.run(q0)"
   ]
  },
  {
   "cell_type": "code",
   "execution_count": null,
   "id": "7fe496ef",
   "metadata": {},
   "outputs": [],
   "source": []
  },
  {
   "cell_type": "code",
   "execution_count": 13,
   "id": "a53efb6a",
   "metadata": {},
   "outputs": [
    {
     "name": "stdout",
     "output_type": "stream",
     "text": [
      "\n",
      "\n",
      "\u001b[1m> Entering new AgentExecutor chain...\u001b[0m\n",
      "\u001b[32;1m\u001b[1;3mThought: I need to find out how many rows are in the dataframe for the 1938 world cup\n",
      "Action: python_repl_ast\n",
      "Action Input: df[df['year'] == 1938].shape[0]\u001b[0m\n",
      "Observation: \u001b[36;1m\u001b[1;3m18\u001b[0m\n",
      "Thought:\u001b[32;1m\u001b[1;3m I now know the final answer\n",
      "Final Answer: 18\u001b[0m\n",
      "\n",
      "\u001b[1m> Finished chain.\u001b[0m\n"
     ]
    },
    {
     "data": {
      "text/plain": [
       "'18'"
      ]
     },
     "execution_count": 13,
     "metadata": {},
     "output_type": "execute_result"
    }
   ],
   "source": [
    "q1 = \"how many games were there in the 1938 world cup?\"\n",
    "agent.run(q1)"
   ]
  },
  {
   "cell_type": "code",
   "execution_count": 14,
   "id": "de56579d",
   "metadata": {},
   "outputs": [],
   "source": [
    "from langchain.callbacks import get_openai_callback\n",
    "\n",
    "def count_tokens(chain, query):\n",
    "    with get_openai_callback() as cb:\n",
    "        result = chain.run(query)\n",
    "        print(f'Spent a total of {cb.total_tokens} tokens')\n",
    "\n",
    "    return result\n"
   ]
  },
  {
   "cell_type": "code",
   "execution_count": 15,
   "id": "c1346501",
   "metadata": {},
   "outputs": [
    {
     "name": "stdout",
     "output_type": "stream",
     "text": [
      "\n",
      "\n",
      "\u001b[1m> Entering new AgentExecutor chain...\u001b[0m\n",
      "\u001b[32;1m\u001b[1;3mThought: I need to find out how many rows are in the dataframe for the 1938 world cup\n",
      "Action: python_repl_ast\n",
      "Action Input: df[df['year'] == 1938].shape[0]\u001b[0m\n",
      "Observation: \u001b[36;1m\u001b[1;3m18\u001b[0m\n",
      "Thought:\u001b[32;1m\u001b[1;3m I now know the final answer\n",
      "Final Answer: 18\u001b[0m\n",
      "\n",
      "\u001b[1m> Finished chain.\u001b[0m\n",
      "Spent a total of 1252 tokens\n"
     ]
    },
    {
     "data": {
      "text/plain": [
       "'18'"
      ]
     },
     "execution_count": 15,
     "metadata": {},
     "output_type": "execute_result"
    }
   ],
   "source": [
    "count_tokens(agent, q1)   # \"how many games were there in the 1938 world cup?\""
   ]
  },
  {
   "cell_type": "code",
   "execution_count": 18,
   "id": "50005a6b",
   "metadata": {},
   "outputs": [
    {
     "name": "stdout",
     "output_type": "stream",
     "text": [
      "\n",
      "\n",
      "\u001b[1m> Entering new AgentExecutor chain...\u001b[0m\n",
      "\u001b[32;1m\u001b[1;3mThought: I need to compare the scores of the two teams\n",
      "Action: python_repl_ast\n",
      "Action Input: df['result'] = np.where(df['score team 1'] > df['score team 2'], 'Team 1 won', np.where(df['score team 1'] < df['score team 2'], 'Team 2 won', 'Tie'))\u001b[0m\n",
      "Observation: \u001b[36;1m\u001b[1;3m\u001b[0m\n",
      "Thought:\u001b[32;1m\u001b[1;3m I now know the result of each match\n",
      "Final Answer: The result of each match can be determined by comparing the scores of the two teams.\u001b[0m\n",
      "\n",
      "\u001b[1m> Finished chain.\u001b[0m\n"
     ]
    },
    {
     "data": {
      "text/plain": [
       "'The result of each match can be determined by comparing the scores of the two teams.'"
      ]
     },
     "execution_count": 18,
     "metadata": {},
     "output_type": "execute_result"
    }
   ],
   "source": [
    "q2a = \"How do you know if a team won, lost or tied a match?\"\n",
    "agent.run(q2a)"
   ]
  },
  {
   "cell_type": "code",
   "execution_count": 25,
   "id": "148ac768",
   "metadata": {},
   "outputs": [
    {
     "name": "stdout",
     "output_type": "stream",
     "text": [
      "\n",
      "\n",
      "\u001b[1m> Entering new AgentExecutor chain...\u001b[0m\n",
      "\u001b[32;1m\u001b[1;3mThought: I need to find the match that is the final of the tournament.\n",
      "Action: python_repl_ast\n",
      "Action Input: df[df['phase'] == 'Final']\u001b[0m\n",
      "Observation: \u001b[36;1m\u001b[1;3m              tournament        date        team 1          team 2  \\\n",
      "17   1930 FIFA World Cup   7/30/1930       Uruguay       Argentina   \n",
      "34   1934 FIFA World Cup   6/10/1934         Italy  Czechoslovakia   \n",
      "52   1938 FIFA World Cup   6/19/1938         Italy         Hungary   \n",
      "74   1950 FIFA World Cup   7/16/1950       Uruguay          Brazil   \n",
      "100  1954 FIFA World Cup    7/4/1954  West Germany         Hungary   \n",
      "135  1958 FIFA World Cup   6/29/1958        Brazil          Sweden   \n",
      "167  1962 FIFA World Cup   6/17/1962        Brazil  Czechoslovakia   \n",
      "199  1966 FIFA World Cup   7/30/1966       England    West Germany   \n",
      "231  1970 FIFA World Cup   6/21/1970        Brazil           Italy   \n",
      "269  1974 FIFA World Cup    7/7/1974   Netherlands    West Germany   \n",
      "307  1978 FIFA World Cup   6/25/1978     Argentina     Netherlands   \n",
      "359  1982 FIFA World Cup   7/11/1982         Italy    West Germany   \n",
      "411  1986 FIFA World Cup   6/29/1986     Argentina    West Germany   \n",
      "463  1990 FIFA World Cup    7/8/1990  West Germany       Argentina   \n",
      "515  1994 FIFA World Cup   7/17/1994        Brazil           Italy   \n",
      "579  1998 FIFA World Cup   7/12/1998        Brazil          France   \n",
      "643  2002 FIFA World Cup   6/30/2002       Germany          Brazil   \n",
      "707  2006 FIFA World Cup    7/9/2006         Italy          France   \n",
      "771  2010 FIFA World Cup   7/11/2010   Netherlands           Spain   \n",
      "835  2014 FIFA World Cup   7/13/2014       Germany       Argentina   \n",
      "899  2018 FIFA World Cup   7/15/2018        France         Croatia   \n",
      "963  2022 FIFA World Cup  12/18/2022    Argentina           France   \n",
      "\n",
      "     score team 1  score team 2 penalties team 1 penalties team 2  \\\n",
      "17              4             2             None             None   \n",
      "34              2             1             None             None   \n",
      "52              4             2             None             None   \n",
      "74              2             1             None             None   \n",
      "100             3             2             None             None   \n",
      "135             5             2             None             None   \n",
      "167             3             1             None             None   \n",
      "199             4             2             None             None   \n",
      "231             4             1             None             None   \n",
      "269             1             2             None             None   \n",
      "307             3             1             None             None   \n",
      "359             3             1             None             None   \n",
      "411             3             2             None             None   \n",
      "463             1             0             None             None   \n",
      "515             0             0                3                2   \n",
      "579             0             3             None             None   \n",
      "643             0             2             None             None   \n",
      "707             1             1                5                3   \n",
      "771             0             1             None             None   \n",
      "835             1             0             None             None   \n",
      "899             4             2             None             None   \n",
      "963             3             3                4                2   \n",
      "\n",
      "               Location  phase  attendance  year          host      result  \n",
      "17          Montevideo   Final       68346  1930       Uruguay  Team 1 won  \n",
      "34                Rome   Final       55000  1934         Italy  Team 1 won  \n",
      "52      Paris/Colombes   Final       45000  1938        France  Team 1 won  \n",
      "74      Rio De Janeiro   Final      173850  1950        Brazil  Team 1 won  \n",
      "100              Berne   Final       62500  1954   Switzerland  Team 1 won  \n",
      "135              Solna   Final       49737  1958        Sweden  Team 1 won  \n",
      "167  Santiago De Chile   Final       68679  1962         Chile  Team 1 won  \n",
      "199             London   Final       96924  1966       England  Team 1 won  \n",
      "231        Mexico City   Final      107412  1970        Mexico  Team 1 won  \n",
      "269             Munich   Final       78200  1974       Germany  Team 2 won  \n",
      "307       Buenos Aires   Final       71483  1978     Argentina  Team 1 won  \n",
      "359             Madrid   Final       90000  1982         Spain  Team 1 won  \n",
      "411        Mexico City   Final      114600  1986        Mexico  Team 1 won  \n",
      "463               Rome   Final       73603  1990         Italy  Team 1 won  \n",
      "515        Los Angeles   Final       94194  1994           USA         Tie  \n",
      "579        Saint-Denis   Final       80000  1998        France  Team 2 won  \n",
      "643           Yokohama   Final       69029  2002   Korea/Japan  Team 2 won  \n",
      "707             Berlin   Final       69000  2006       Germany         Tie  \n",
      "771        Johannesburg  Final       84490  2010  South Africa  Team 2 won  \n",
      "835      Rio de Janeiro  Final       74738  2014        Brazil  Team 1 won  \n",
      "899              Moscow  Final       78011  2018        Russia  Team 1 won  \n",
      "963               Qatar  Final       88966  2022         Qatar         Tie  \u001b[0m\n",
      "Thought:\u001b[32;1m\u001b[1;3m The match with the phase 'Final' is the match that determines the champion.\n",
      "Final Answer: The match with the phase 'Final' is the match that determines the champion.\u001b[0m\n",
      "\n",
      "\u001b[1m> Finished chain.\u001b[0m\n"
     ]
    },
    {
     "data": {
      "text/plain": [
       "\"The match with the phase 'Final' is the match that determines the champion.\""
      ]
     },
     "execution_count": 25,
     "metadata": {},
     "output_type": "execute_result"
    }
   ],
   "source": [
    "q2b = \"Given the matches in any world cup, how do you know which match determines the champion?\"\n",
    "agent.run(q2b)"
   ]
  },
  {
   "cell_type": "code",
   "execution_count": 26,
   "id": "64d6c387",
   "metadata": {},
   "outputs": [
    {
     "name": "stdout",
     "output_type": "stream",
     "text": [
      "\n",
      "\n",
      "\u001b[1m> Entering new AgentExecutor chain...\u001b[0m\n",
      "\u001b[32;1m\u001b[1;3mThought: I need to look at the penalties column.\n",
      "Action: python_repl_ast\n",
      "Action Input: df['penalties team 1'].tail()\u001b[0m\n",
      "Observation: \u001b[36;1m\u001b[1;3m959    None\n",
      "960    None\n",
      "961    None\n",
      "962    None\n",
      "963       4\n",
      "Name: penalties team 1, dtype: object\u001b[0m\n",
      "Thought:\u001b[32;1m\u001b[1;3m If the penalties column is not empty, then the team with the higher score in the penalties column won the match.\n",
      "Final Answer: If the team scores are equal, the team with the higher score in the penalties column won the match.\u001b[0m\n",
      "\n",
      "\u001b[1m> Finished chain.\u001b[0m\n"
     ]
    },
    {
     "data": {
      "text/plain": [
       "'If the team scores are equal, the team with the higher score in the penalties column won the match.'"
      ]
     },
     "execution_count": 26,
     "metadata": {},
     "output_type": "execute_result"
    }
   ],
   "source": [
    "q2c = \"In a final match, how do you know if a team won or lost a match if the team scores are equal?\"\n",
    "agent.run(q2c)"
   ]
  },
  {
   "cell_type": "code",
   "execution_count": 27,
   "id": "a7a42a7c",
   "metadata": {
    "scrolled": false
   },
   "outputs": [
    {
     "name": "stdout",
     "output_type": "stream",
     "text": [
      "\n",
      "\n",
      "\u001b[1m> Entering new AgentExecutor chain...\u001b[0m\n",
      "\u001b[32;1m\u001b[1;3mThought: I need to find the row in the dataframe that corresponds to the 1994 world cup final\n",
      "Action: python_repl_ast\n",
      "Action Input: df[df['year'] == 1994]\u001b[0m\n",
      "Observation: \u001b[36;1m\u001b[1;3m              tournament       date               team 1               team 2  \\\n",
      "464  1994 FIFA World Cup  6/17/1994              Germany              Bolivia   \n",
      "465  1994 FIFA World Cup  6/17/1994                Spain          South Korea   \n",
      "466  1994 FIFA World Cup  6/18/1994             Colombia              Romania   \n",
      "467  1994 FIFA World Cup  6/18/1994                Italy  Republic of Ireland   \n",
      "468  1994 FIFA World Cup  6/18/1994                  USA          Switzerland   \n",
      "469  1994 FIFA World Cup  6/19/1994              Belgium              Morocco   \n",
      "470  1994 FIFA World Cup  6/19/1994             Cameroon               Sweden   \n",
      "471  1994 FIFA World Cup  6/19/1994               Norway               Mexico   \n",
      "472  1994 FIFA World Cup  6/20/1994               Brazil               Russia   \n",
      "473  1994 FIFA World Cup  6/20/1994          Netherlands         Saudi Arabia   \n",
      "474  1994 FIFA World Cup  6/21/1994            Argentina               Greece   \n",
      "475  1994 FIFA World Cup  6/21/1994              Germany                Spain   \n",
      "476  1994 FIFA World Cup  6/21/1994              Nigeria             Bulgaria   \n",
      "477  1994 FIFA World Cup  6/22/1994              Romania          Switzerland   \n",
      "478  1994 FIFA World Cup  6/22/1994                  USA             Colombia   \n",
      "479  1994 FIFA World Cup  6/23/1994                Italy               Norway   \n",
      "480  1994 FIFA World Cup  6/23/1994          South Korea              Bolivia   \n",
      "481  1994 FIFA World Cup  6/24/1994               Brazil             Cameroon   \n",
      "482  1994 FIFA World Cup  6/24/1994               Mexico  Republic of Ireland   \n",
      "483  1994 FIFA World Cup  6/24/1994               Sweden               Russia   \n",
      "484  1994 FIFA World Cup  6/25/1994            Argentina              Nigeria   \n",
      "485  1994 FIFA World Cup  6/25/1994              Belgium          Netherlands   \n",
      "486  1994 FIFA World Cup  6/25/1994         Saudi Arabia              Morocco   \n",
      "487  1994 FIFA World Cup  6/26/1994             Bulgaria               Greece   \n",
      "488  1994 FIFA World Cup  6/26/1994          Switzerland             Colombia   \n",
      "489  1994 FIFA World Cup  6/26/1994                  USA              Romania   \n",
      "490  1994 FIFA World Cup  6/27/1994              Bolivia                Spain   \n",
      "491  1994 FIFA World Cup  6/27/1994              Germany          South Korea   \n",
      "492  1994 FIFA World Cup  6/28/1994               Brazil               Sweden   \n",
      "493  1994 FIFA World Cup  6/28/1994                Italy               Mexico   \n",
      "494  1994 FIFA World Cup  6/28/1994  Republic of Ireland               Norway   \n",
      "495  1994 FIFA World Cup  6/28/1994               Russia             Cameroon   \n",
      "496  1994 FIFA World Cup  6/29/1994              Belgium         Saudi Arabia   \n",
      "497  1994 FIFA World Cup  6/29/1994              Morocco          Netherlands   \n",
      "498  1994 FIFA World Cup  6/30/1994            Argentina             Bulgaria   \n",
      "499  1994 FIFA World Cup  6/30/1994               Greece              Nigeria   \n",
      "500  1994 FIFA World Cup   7/2/1994              Germany              Belgium   \n",
      "501  1994 FIFA World Cup   7/2/1994                Spain          Switzerland   \n",
      "502  1994 FIFA World Cup   7/3/1994              Romania            Argentina   \n",
      "503  1994 FIFA World Cup   7/3/1994         Saudi Arabia               Sweden   \n",
      "504  1994 FIFA World Cup   7/4/1994               Brazil                  USA   \n",
      "505  1994 FIFA World Cup   7/4/1994          Netherlands  Republic of Ireland   \n",
      "506  1994 FIFA World Cup   7/5/1994               Mexico             Bulgaria   \n",
      "507  1994 FIFA World Cup   7/5/1994              Nigeria                Italy   \n",
      "508  1994 FIFA World Cup   7/9/1994                Italy                Spain   \n",
      "509  1994 FIFA World Cup   7/9/1994          Netherlands               Brazil   \n",
      "510  1994 FIFA World Cup  7/10/1994             Bulgaria              Germany   \n",
      "511  1994 FIFA World Cup  7/10/1994              Romania               Sweden   \n",
      "512  1994 FIFA World Cup  7/13/1994             Bulgaria                Italy   \n",
      "513  1994 FIFA World Cup  7/13/1994               Sweden               Brazil   \n",
      "514  1994 FIFA World Cup  7/16/1994               Sweden             Bulgaria   \n",
      "515  1994 FIFA World Cup  7/17/1994               Brazil                Italy   \n",
      "\n",
      "     score team 1  score team 2 penalties team 1 penalties team 2  \\\n",
      "464             1             0             None             None   \n",
      "465             2             2             None             None   \n",
      "466             1             3             None             None   \n",
      "467             0             1             None             None   \n",
      "468             1             1             None             None   \n",
      "469             1             0             None             None   \n",
      "470             2             2             None             None   \n",
      "471             1             0             None             None   \n",
      "472             2             0             None             None   \n",
      "473             2             1             None             None   \n",
      "474             4             0             None             None   \n",
      "475             1             1             None             None   \n",
      "476             3             0             None             None   \n",
      "477             1             4             None             None   \n",
      "478             2             1             None             None   \n",
      "479             1             0             None             None   \n",
      "480             0             0             None             None   \n",
      "481             3             0             None             None   \n",
      "482             2             1             None             None   \n",
      "483             3             1             None             None   \n",
      "484             2             1             None             None   \n",
      "485             1             0             None             None   \n",
      "486             2             1             None             None   \n",
      "487             4             0             None             None   \n",
      "488             0             2             None             None   \n",
      "489             0             1             None             None   \n",
      "490             1             3             None             None   \n",
      "491             3             2             None             None   \n",
      "492             1             1             None             None   \n",
      "493             1             1             None             None   \n",
      "494             0             0             None             None   \n",
      "495             6             1             None             None   \n",
      "496             0             1             None             None   \n",
      "497             1             2             None             None   \n",
      "498             0             2             None             None   \n",
      "499             0             2             None             None   \n",
      "500             3             2             None             None   \n",
      "501             3             0             None             None   \n",
      "502             3             2             None             None   \n",
      "503             1             3             None             None   \n",
      "504             1             0             None             None   \n",
      "505             2             0             None             None   \n",
      "506             1             1             None             None   \n",
      "507             1             2             None             None   \n",
      "508             2             1             None             None   \n",
      "509             2             3             None             None   \n",
      "510             2             1             None             None   \n",
      "511             2             2             None             None   \n",
      "512             1             2             None             None   \n",
      "513             0             1             None             None   \n",
      "514             4             0             None             None   \n",
      "515             0             0                3                2   \n",
      "\n",
      "                 Location           phase  attendance  year host      result  \n",
      "464              Chicago      Group stage       63117  1994  USA  Team 1 won  \n",
      "465               Dallas      Group stage       56247  1994  USA         Tie  \n",
      "466          Los Angeles      Group stage       91856  1994  USA  Team 2 won  \n",
      "467  New York/New Jersey      Group stage       75338  1994  USA  Team 2 won  \n",
      "468              Detroit      Group stage       73425  1994  USA         Tie  \n",
      "469              Orlando      Group stage       61219  1994  USA  Team 1 won  \n",
      "470          Los Angeles      Group stage       93194  1994  USA         Tie  \n",
      "471        Washington Dc      Group stage       52395  1994  USA  Team 1 won  \n",
      "472        San Francisco      Group stage       81061  1994  USA  Team 1 won  \n",
      "473        Washington Dc      Group stage       50535  1994  USA  Team 1 won  \n",
      "474               Boston      Group stage       54456  1994  USA  Team 1 won  \n",
      "475              Chicago      Group stage       63113  1994  USA         Tie  \n",
      "476               Dallas      Group stage       44132  1994  USA  Team 1 won  \n",
      "477              Detroit      Group stage       61428  1994  USA  Team 2 won  \n",
      "478          Los Angeles      Group stage       93869  1994  USA  Team 1 won  \n",
      "479  New York/New Jersey      Group stage       74624  1994  USA  Team 1 won  \n",
      "480               Boston      Group stage       54453  1994  USA         Tie  \n",
      "481        San Francisco      Group stage       83401  1994  USA  Team 1 won  \n",
      "482              Orlando      Group stage       60790  1994  USA  Team 1 won  \n",
      "483              Detroit      Group stage       71528  1994  USA  Team 1 won  \n",
      "484               Boston      Group stage       54453  1994  USA  Team 1 won  \n",
      "485              Orlando      Group stage       62387  1994  USA  Team 1 won  \n",
      "486  New York/New Jersey      Group stage       76322  1994  USA  Team 1 won  \n",
      "487              Chicago      Group stage       63160  1994  USA  Team 1 won  \n",
      "488        San Francisco      Group stage       83401  1994  USA  Team 2 won  \n",
      "489          Los Angeles      Group stage       93869  1994  USA  Team 2 won  \n",
      "490              Chicago      Group stage       63089  1994  USA  Team 2 won  \n",
      "491               Dallas      Group stage       63998  1994  USA  Team 1 won  \n",
      "492              Detroit      Group stage       77217  1994  USA         Tie  \n",
      "493        Washington Dc      Group stage       52535  1994  USA         Tie  \n",
      "494  New York/New Jersey      Group stage       72404  1994  USA         Tie  \n",
      "495        San Francisco      Group stage       74914  1994  USA  Team 1 won  \n",
      "496        Washington Dc      Group stage       52959  1994  USA  Team 2 won  \n",
      "497              Orlando      Group stage       60578  1994  USA  Team 2 won  \n",
      "498               Dallas      Group stage       63998  1994  USA  Team 2 won  \n",
      "499               Boston      Group stage       53001  1994  USA  Team 2 won  \n",
      "500              Chicago      Round of 16       60246  1994  USA  Team 1 won  \n",
      "501        Washington Dc      Round of 16       53121  1994  USA  Team 1 won  \n",
      "502          Los Angeles      Round of 16       90469  1994  USA  Team 1 won  \n",
      "503               Dallas      Round of 16       60277  1994  USA  Team 2 won  \n",
      "504        San Francisco      Round of 16       84147  1994  USA  Team 1 won  \n",
      "505              Orlando      Round of 16       61355  1994  USA  Team 1 won  \n",
      "506  New York/New Jersey      Round of 16       71030  1994  USA         Tie  \n",
      "507               Boston      Round of 16       54367  1994  USA  Team 2 won  \n",
      "508               Boston   Quarter-finals       53400  1994  USA  Team 1 won  \n",
      "509               Dallas   Quarter-finals       63500  1994  USA  Team 2 won  \n",
      "510  New York/New Jersey   Quarter-finals       72000  1994  USA  Team 1 won  \n",
      "511        San Francisco   Quarter-finals       83500  1994  USA         Tie  \n",
      "512  New York/New Jersey      Semi-finals       74110  1994  USA  Team 2 won  \n",
      "513          Los Angeles      Semi-finals       91856  1994  USA  Team 2 won  \n",
      "514          Los Angeles      Third-place       91500  1994  USA  Team 1 won  \n",
      "515          Los Angeles            Final       94194  1994  USA         Tie  \u001b[0m\n"
     ]
    },
    {
     "name": "stdout",
     "output_type": "stream",
     "text": [
      "Thought:\u001b[32;1m\u001b[1;3m I need to find the row corresponding to the 1994 world cup final\n",
      "Action: python_repl_ast\n",
      "Action Input: df[(df['year'] == 1994) & (df['phase'] == 'Final')]\u001b[0m\n",
      "Observation: \u001b[36;1m\u001b[1;3m              tournament       date  team 1 team 2  score team 1  \\\n",
      "515  1994 FIFA World Cup  7/17/1994  Brazil  Italy             0   \n",
      "\n",
      "     score team 2 penalties team 1 penalties team 2      Location  phase  \\\n",
      "515             0                3                2  Los Angeles   Final   \n",
      "\n",
      "     attendance  year host result  \n",
      "515       94194  1994  USA    Tie  \u001b[0m\n",
      "Thought:\u001b[32;1m\u001b[1;3m I now know the final answer\n",
      "Final Answer: The 1994 World Cup Final was between Brazil and Italy, and the score was 0-0.\u001b[0m\n",
      "\n",
      "\u001b[1m> Finished chain.\u001b[0m\n"
     ]
    },
    {
     "data": {
      "text/plain": [
       "'The 1994 World Cup Final was between Brazil and Italy, and the score was 0-0.'"
      ]
     },
     "execution_count": 27,
     "metadata": {},
     "output_type": "execute_result"
    }
   ],
   "source": [
    "q3a = \"who won the 1994 world cup final? what were the teams and the score?\"\n",
    "agent.run(q3a)"
   ]
  },
  {
   "cell_type": "code",
   "execution_count": 28,
   "id": "8cc9d2d9",
   "metadata": {},
   "outputs": [
    {
     "name": "stdout",
     "output_type": "stream",
     "text": [
      "\n",
      "\n",
      "\u001b[1m> Entering new AgentExecutor chain...\u001b[0m\n",
      "\u001b[32;1m\u001b[1;3mThought: I need to find the row in the dataframe that corresponds to the 1994 world cup final\n",
      "Action: python_repl_ast\n",
      "Action Input: df[df['year'] == 1994]\u001b[0m\n",
      "Observation: \u001b[36;1m\u001b[1;3m              tournament       date               team 1               team 2  \\\n",
      "464  1994 FIFA World Cup  6/17/1994              Germany              Bolivia   \n",
      "465  1994 FIFA World Cup  6/17/1994                Spain          South Korea   \n",
      "466  1994 FIFA World Cup  6/18/1994             Colombia              Romania   \n",
      "467  1994 FIFA World Cup  6/18/1994                Italy  Republic of Ireland   \n",
      "468  1994 FIFA World Cup  6/18/1994                  USA          Switzerland   \n",
      "469  1994 FIFA World Cup  6/19/1994              Belgium              Morocco   \n",
      "470  1994 FIFA World Cup  6/19/1994             Cameroon               Sweden   \n",
      "471  1994 FIFA World Cup  6/19/1994               Norway               Mexico   \n",
      "472  1994 FIFA World Cup  6/20/1994               Brazil               Russia   \n",
      "473  1994 FIFA World Cup  6/20/1994          Netherlands         Saudi Arabia   \n",
      "474  1994 FIFA World Cup  6/21/1994            Argentina               Greece   \n",
      "475  1994 FIFA World Cup  6/21/1994              Germany                Spain   \n",
      "476  1994 FIFA World Cup  6/21/1994              Nigeria             Bulgaria   \n",
      "477  1994 FIFA World Cup  6/22/1994              Romania          Switzerland   \n",
      "478  1994 FIFA World Cup  6/22/1994                  USA             Colombia   \n",
      "479  1994 FIFA World Cup  6/23/1994                Italy               Norway   \n",
      "480  1994 FIFA World Cup  6/23/1994          South Korea              Bolivia   \n",
      "481  1994 FIFA World Cup  6/24/1994               Brazil             Cameroon   \n",
      "482  1994 FIFA World Cup  6/24/1994               Mexico  Republic of Ireland   \n",
      "483  1994 FIFA World Cup  6/24/1994               Sweden               Russia   \n",
      "484  1994 FIFA World Cup  6/25/1994            Argentina              Nigeria   \n",
      "485  1994 FIFA World Cup  6/25/1994              Belgium          Netherlands   \n",
      "486  1994 FIFA World Cup  6/25/1994         Saudi Arabia              Morocco   \n",
      "487  1994 FIFA World Cup  6/26/1994             Bulgaria               Greece   \n",
      "488  1994 FIFA World Cup  6/26/1994          Switzerland             Colombia   \n",
      "489  1994 FIFA World Cup  6/26/1994                  USA              Romania   \n",
      "490  1994 FIFA World Cup  6/27/1994              Bolivia                Spain   \n",
      "491  1994 FIFA World Cup  6/27/1994              Germany          South Korea   \n",
      "492  1994 FIFA World Cup  6/28/1994               Brazil               Sweden   \n",
      "493  1994 FIFA World Cup  6/28/1994                Italy               Mexico   \n",
      "494  1994 FIFA World Cup  6/28/1994  Republic of Ireland               Norway   \n",
      "495  1994 FIFA World Cup  6/28/1994               Russia             Cameroon   \n",
      "496  1994 FIFA World Cup  6/29/1994              Belgium         Saudi Arabia   \n",
      "497  1994 FIFA World Cup  6/29/1994              Morocco          Netherlands   \n",
      "498  1994 FIFA World Cup  6/30/1994            Argentina             Bulgaria   \n",
      "499  1994 FIFA World Cup  6/30/1994               Greece              Nigeria   \n",
      "500  1994 FIFA World Cup   7/2/1994              Germany              Belgium   \n",
      "501  1994 FIFA World Cup   7/2/1994                Spain          Switzerland   \n",
      "502  1994 FIFA World Cup   7/3/1994              Romania            Argentina   \n",
      "503  1994 FIFA World Cup   7/3/1994         Saudi Arabia               Sweden   \n",
      "504  1994 FIFA World Cup   7/4/1994               Brazil                  USA   \n",
      "505  1994 FIFA World Cup   7/4/1994          Netherlands  Republic of Ireland   \n",
      "506  1994 FIFA World Cup   7/5/1994               Mexico             Bulgaria   \n",
      "507  1994 FIFA World Cup   7/5/1994              Nigeria                Italy   \n",
      "508  1994 FIFA World Cup   7/9/1994                Italy                Spain   \n",
      "509  1994 FIFA World Cup   7/9/1994          Netherlands               Brazil   \n",
      "510  1994 FIFA World Cup  7/10/1994             Bulgaria              Germany   \n",
      "511  1994 FIFA World Cup  7/10/1994              Romania               Sweden   \n",
      "512  1994 FIFA World Cup  7/13/1994             Bulgaria                Italy   \n",
      "513  1994 FIFA World Cup  7/13/1994               Sweden               Brazil   \n",
      "514  1994 FIFA World Cup  7/16/1994               Sweden             Bulgaria   \n",
      "515  1994 FIFA World Cup  7/17/1994               Brazil                Italy   \n",
      "\n",
      "     score team 1  score team 2 penalties team 1 penalties team 2  \\\n",
      "464             1             0             None             None   \n",
      "465             2             2             None             None   \n",
      "466             1             3             None             None   \n",
      "467             0             1             None             None   \n",
      "468             1             1             None             None   \n",
      "469             1             0             None             None   \n",
      "470             2             2             None             None   \n",
      "471             1             0             None             None   \n",
      "472             2             0             None             None   \n",
      "473             2             1             None             None   \n",
      "474             4             0             None             None   \n",
      "475             1             1             None             None   \n",
      "476             3             0             None             None   \n",
      "477             1             4             None             None   \n",
      "478             2             1             None             None   \n",
      "479             1             0             None             None   \n",
      "480             0             0             None             None   \n",
      "481             3             0             None             None   \n",
      "482             2             1             None             None   \n",
      "483             3             1             None             None   \n",
      "484             2             1             None             None   \n",
      "485             1             0             None             None   \n",
      "486             2             1             None             None   \n",
      "487             4             0             None             None   \n",
      "488             0             2             None             None   \n",
      "489             0             1             None             None   \n",
      "490             1             3             None             None   \n",
      "491             3             2             None             None   \n",
      "492             1             1             None             None   \n",
      "493             1             1             None             None   \n",
      "494             0             0             None             None   \n",
      "495             6             1             None             None   \n",
      "496             0             1             None             None   \n",
      "497             1             2             None             None   \n",
      "498             0             2             None             None   \n",
      "499             0             2             None             None   \n",
      "500             3             2             None             None   \n",
      "501             3             0             None             None   \n",
      "502             3             2             None             None   \n",
      "503             1             3             None             None   \n",
      "504             1             0             None             None   \n",
      "505             2             0             None             None   \n",
      "506             1             1             None             None   \n",
      "507             1             2             None             None   \n",
      "508             2             1             None             None   \n",
      "509             2             3             None             None   \n",
      "510             2             1             None             None   \n",
      "511             2             2             None             None   \n",
      "512             1             2             None             None   \n",
      "513             0             1             None             None   \n",
      "514             4             0             None             None   \n",
      "515             0             0                3                2   \n",
      "\n",
      "                 Location           phase  attendance  year host      result  \n",
      "464              Chicago      Group stage       63117  1994  USA  Team 1 won  \n",
      "465               Dallas      Group stage       56247  1994  USA         Tie  \n",
      "466          Los Angeles      Group stage       91856  1994  USA  Team 2 won  \n",
      "467  New York/New Jersey      Group stage       75338  1994  USA  Team 2 won  \n",
      "468              Detroit      Group stage       73425  1994  USA         Tie  \n",
      "469              Orlando      Group stage       61219  1994  USA  Team 1 won  \n",
      "470          Los Angeles      Group stage       93194  1994  USA         Tie  \n",
      "471        Washington Dc      Group stage       52395  1994  USA  Team 1 won  \n",
      "472        San Francisco      Group stage       81061  1994  USA  Team 1 won  \n",
      "473        Washington Dc      Group stage       50535  1994  USA  Team 1 won  \n",
      "474               Boston      Group stage       54456  1994  USA  Team 1 won  \n",
      "475              Chicago      Group stage       63113  1994  USA         Tie  \n",
      "476               Dallas      Group stage       44132  1994  USA  Team 1 won  \n",
      "477              Detroit      Group stage       61428  1994  USA  Team 2 won  \n",
      "478          Los Angeles      Group stage       93869  1994  USA  Team 1 won  \n",
      "479  New York/New Jersey      Group stage       74624  1994  USA  Team 1 won  \n",
      "480               Boston      Group stage       54453  1994  USA         Tie  \n",
      "481        San Francisco      Group stage       83401  1994  USA  Team 1 won  \n",
      "482              Orlando      Group stage       60790  1994  USA  Team 1 won  \n",
      "483              Detroit      Group stage       71528  1994  USA  Team 1 won  \n",
      "484               Boston      Group stage       54453  1994  USA  Team 1 won  \n",
      "485              Orlando      Group stage       62387  1994  USA  Team 1 won  \n",
      "486  New York/New Jersey      Group stage       76322  1994  USA  Team 1 won  \n",
      "487              Chicago      Group stage       63160  1994  USA  Team 1 won  \n",
      "488        San Francisco      Group stage       83401  1994  USA  Team 2 won  \n",
      "489          Los Angeles      Group stage       93869  1994  USA  Team 2 won  \n",
      "490              Chicago      Group stage       63089  1994  USA  Team 2 won  \n",
      "491               Dallas      Group stage       63998  1994  USA  Team 1 won  \n",
      "492              Detroit      Group stage       77217  1994  USA         Tie  \n",
      "493        Washington Dc      Group stage       52535  1994  USA         Tie  \n",
      "494  New York/New Jersey      Group stage       72404  1994  USA         Tie  \n",
      "495        San Francisco      Group stage       74914  1994  USA  Team 1 won  \n",
      "496        Washington Dc      Group stage       52959  1994  USA  Team 2 won  \n",
      "497              Orlando      Group stage       60578  1994  USA  Team 2 won  \n",
      "498               Dallas      Group stage       63998  1994  USA  Team 2 won  \n",
      "499               Boston      Group stage       53001  1994  USA  Team 2 won  \n",
      "500              Chicago      Round of 16       60246  1994  USA  Team 1 won  \n",
      "501        Washington Dc      Round of 16       53121  1994  USA  Team 1 won  \n",
      "502          Los Angeles      Round of 16       90469  1994  USA  Team 1 won  \n",
      "503               Dallas      Round of 16       60277  1994  USA  Team 2 won  \n",
      "504        San Francisco      Round of 16       84147  1994  USA  Team 1 won  \n",
      "505              Orlando      Round of 16       61355  1994  USA  Team 1 won  \n",
      "506  New York/New Jersey      Round of 16       71030  1994  USA         Tie  \n",
      "507               Boston      Round of 16       54367  1994  USA  Team 2 won  \n",
      "508               Boston   Quarter-finals       53400  1994  USA  Team 1 won  \n",
      "509               Dallas   Quarter-finals       63500  1994  USA  Team 2 won  \n",
      "510  New York/New Jersey   Quarter-finals       72000  1994  USA  Team 1 won  \n",
      "511        San Francisco   Quarter-finals       83500  1994  USA         Tie  \n",
      "512  New York/New Jersey      Semi-finals       74110  1994  USA  Team 2 won  \n",
      "513          Los Angeles      Semi-finals       91856  1994  USA  Team 2 won  \n",
      "514          Los Angeles      Third-place       91500  1994  USA  Team 1 won  \n",
      "515          Los Angeles            Final       94194  1994  USA         Tie  \u001b[0m\n"
     ]
    },
    {
     "name": "stdout",
     "output_type": "stream",
     "text": [
      "Thought:\u001b[32;1m\u001b[1;3m I now know the final answer\n",
      "Final Answer: The 1994 World Cup Final was between Italy and Brazil, and ended in a 0-0 tie.\u001b[0m\n",
      "\n",
      "\u001b[1m> Finished chain.\u001b[0m\n",
      "Spent a total of 3897 tokens\n"
     ]
    },
    {
     "data": {
      "text/plain": [
       "'The 1994 World Cup Final was between Italy and Brazil, and ended in a 0-0 tie.'"
      ]
     },
     "execution_count": 28,
     "metadata": {},
     "output_type": "execute_result"
    }
   ],
   "source": [
    "count_tokens(agent,q3a)   # \"who won the 1994 world cup final? what were the teams and the score?\""
   ]
  },
  {
   "cell_type": "code",
   "execution_count": 30,
   "id": "f5ac94de",
   "metadata": {},
   "outputs": [
    {
     "name": "stdout",
     "output_type": "stream",
     "text": [
      "\n",
      "\n",
      "\u001b[1m> Entering new AgentExecutor chain...\u001b[0m\n",
      "\u001b[32;1m\u001b[1;3mThought: I need to find the last match of the 1994 world cup\n",
      "Action: python_repl_ast\n",
      "Action Input: df[df['year'] == 1994].tail(1)\u001b[0m\n",
      "Observation: \u001b[36;1m\u001b[1;3m              tournament       date  team 1 team 2  score team 1  \\\n",
      "515  1994 FIFA World Cup  7/17/1994  Brazil  Italy             0   \n",
      "\n",
      "     score team 2 penalties team 1 penalties team 2      Location  phase  \\\n",
      "515             0                3                2  Los Angeles   Final   \n",
      "\n",
      "     attendance  year host result  \n",
      "515       94194  1994  USA    Tie  \u001b[0m\n",
      "Thought:\u001b[32;1m\u001b[1;3m I now know the final match of the 1994 world cup\n",
      "Final Answer: The final match of the 1994 world cup was between Brazil and Italy, the score was 0-0 and the result was a tie.\u001b[0m\n",
      "\n",
      "\u001b[1m> Finished chain.\u001b[0m\n"
     ]
    },
    {
     "data": {
      "text/plain": [
       "'The final match of the 1994 world cup was between Brazil and Italy, the score was 0-0 and the result was a tie.'"
      ]
     },
     "execution_count": 30,
     "metadata": {},
     "output_type": "execute_result"
    }
   ],
   "source": [
    "q3b = \"What was the final match of the 1994 world cup, what were the teams, the score and the winner?\"\n",
    "agent.run(q3b)"
   ]
  },
  {
   "cell_type": "code",
   "execution_count": 31,
   "id": "82296a47",
   "metadata": {},
   "outputs": [
    {
     "name": "stdout",
     "output_type": "stream",
     "text": [
      "\n",
      "\n",
      "\u001b[1m> Entering new AgentExecutor chain...\u001b[0m\n",
      "\u001b[32;1m\u001b[1;3mThought: I need to find the row in the dataframe that corresponds to the 1974 world cup final\n",
      "Action: python_repl_ast\n",
      "Action Input: df[df['year'] == 1974]\u001b[0m\n",
      "Observation: \u001b[36;1m\u001b[1;3m              tournament       date        team 1        team 2  score team 1  \\\n",
      "232  1974 FIFA World Cup  6/13/1974        Brazil    Yugoslavia             0   \n",
      "233  1974 FIFA World Cup  6/14/1974  East Germany     Australia             2   \n",
      "234  1974 FIFA World Cup  6/14/1974  West Germany         Chile             1   \n",
      "235  1974 FIFA World Cup  6/14/1974         Zaire      Scotland             0   \n",
      "236  1974 FIFA World Cup  6/15/1974         Italy         Haiti             3   \n",
      "237  1974 FIFA World Cup  6/15/1974        Poland     Argentina             3   \n",
      "238  1974 FIFA World Cup  6/15/1974        Sweden      Bulgaria             0   \n",
      "239  1974 FIFA World Cup  6/15/1974       Uruguay   Netherlands             0   \n",
      "240  1974 FIFA World Cup  6/18/1974     Australia  West Germany             0   \n",
      "241  1974 FIFA World Cup  6/18/1974         Chile  East Germany             1   \n",
      "242  1974 FIFA World Cup  6/18/1974      Scotland        Brazil             0   \n",
      "243  1974 FIFA World Cup  6/18/1974    Yugoslavia         Zaire             9   \n",
      "244  1974 FIFA World Cup  6/19/1974     Argentina         Italy             1   \n",
      "245  1974 FIFA World Cup  6/19/1974      Bulgaria       Uruguay             1   \n",
      "246  1974 FIFA World Cup  6/19/1974         Haiti        Poland             0   \n",
      "247  1974 FIFA World Cup  6/19/1974   Netherlands        Sweden             0   \n",
      "248  1974 FIFA World Cup  6/22/1974     Australia         Chile             0   \n",
      "249  1974 FIFA World Cup  6/22/1974  East Germany  West Germany             1   \n",
      "250  1974 FIFA World Cup  6/22/1974      Scotland    Yugoslavia             1   \n",
      "251  1974 FIFA World Cup  6/22/1974         Zaire        Brazil             0   \n",
      "252  1974 FIFA World Cup  6/23/1974     Argentina         Haiti             4   \n",
      "253  1974 FIFA World Cup  6/23/1974      Bulgaria   Netherlands             1   \n",
      "254  1974 FIFA World Cup  6/23/1974        Poland         Italy             2   \n",
      "255  1974 FIFA World Cup  6/23/1974        Sweden       Uruguay             3   \n",
      "256  1974 FIFA World Cup  6/26/1974        Brazil  East Germany             1   \n",
      "257  1974 FIFA World Cup  6/26/1974   Netherlands     Argentina             4   \n",
      "258  1974 FIFA World Cup  6/26/1974        Sweden        Poland             0   \n",
      "259  1974 FIFA World Cup  6/26/1974    Yugoslavia  West Germany             0   \n",
      "260  1974 FIFA World Cup  6/30/1974     Argentina        Brazil             1   \n",
      "261  1974 FIFA World Cup  6/30/1974  East Germany   Netherlands             0   \n",
      "262  1974 FIFA World Cup  6/30/1974  West Germany        Sweden             4   \n",
      "263  1974 FIFA World Cup  6/30/1974        Poland    Yugoslavia             2   \n",
      "264  1974 FIFA World Cup   7/3/1974     Argentina  East Germany             1   \n",
      "265  1974 FIFA World Cup   7/3/1974   Netherlands        Brazil             2   \n",
      "266  1974 FIFA World Cup   7/3/1974        Poland  West Germany             0   \n",
      "267  1974 FIFA World Cup   7/3/1974        Sweden    Yugoslavia             2   \n",
      "268  1974 FIFA World Cup   7/6/1974        Brazil        Poland             0   \n",
      "269  1974 FIFA World Cup   7/7/1974   Netherlands  West Germany             1   \n",
      "\n",
      "     score team 2 penalties team 1 penalties team 2         Location  \\\n",
      "232             0             None             None  Frankfurt/Main    \n",
      "233             0             None             None         Hamburg    \n",
      "234             0             None             None     Berlin West    \n",
      "235             2             None             None        Dortmund    \n",
      "236             1             None             None          Munich    \n",
      "237             2             None             None       Stuttgart    \n",
      "238             0             None             None       Dusseldorf   \n",
      "239             2             None             None         Hanover    \n",
      "240             3             None             None         Hamburg    \n",
      "241             1             None             None     Berlin West    \n",
      "242             0             None             None  Frankfurt/Main    \n",
      "243             0             None             None   Gelsenkirchen    \n",
      "244             1             None             None       Stuttgart    \n",
      "245             1             None             None         Hanover    \n",
      "246             7             None             None          Munich    \n",
      "247             0             None             None        Dortmund    \n",
      "248             0             None             None     Berlin West    \n",
      "249             0             None             None         Hamburg    \n",
      "250             1             None             None  Frankfurt/Main    \n",
      "251             3             None             None   Gelsenkirchen    \n",
      "252             1             None             None          Munich    \n",
      "253             4             None             None        Dortmund    \n",
      "254             1             None             None       Stuttgart    \n",
      "255             0             None             None       Dusseldorf   \n",
      "256             0             None             None         Hanover    \n",
      "257             0             None             None   Gelsenkirchen    \n",
      "258             1             None             None       Stuttgart    \n",
      "259             2             None             None       Dusseldorf   \n",
      "260             2             None             None         Hanover    \n",
      "261             2             None             None   Gelsenkirchen    \n",
      "262             2             None             None       Dusseldorf   \n",
      "263             1             None             None  Frankfurt/Main    \n",
      "264             1             None             None   Gelsenkirchen    \n",
      "265             0             None             None        Dortmund    \n",
      "266             1             None             None  Frankfurt/Main    \n",
      "267             1             None             None       Dusseldorf   \n",
      "268             1             None             None          Munich    \n",
      "269             2             None             None          Munich    \n",
      "\n",
      "            phase  attendance  year     host      result  \n",
      "232   Group stage       62000  1974  Germany         Tie  \n",
      "233   Group stage       17000  1974  Germany  Team 1 won  \n",
      "234   Group stage       81100  1974  Germany  Team 1 won  \n",
      "235   Group stage       27000  1974  Germany  Team 2 won  \n",
      "236   Group stage       53000  1974  Germany  Team 1 won  \n",
      "237   Group stage       32700  1974  Germany  Team 1 won  \n",
      "238   Group stage       23800  1974  Germany         Tie  \n",
      "239   Group stage       55100  1974  Germany  Team 2 won  \n",
      "240   Group stage       53300  1974  Germany  Team 2 won  \n",
      "241   Group stage       28300  1974  Germany         Tie  \n",
      "242   Group stage       62000  1974  Germany         Tie  \n",
      "243   Group stage       31700  1974  Germany  Team 1 won  \n",
      "244   Group stage       70100  1974  Germany         Tie  \n",
      "245   Group stage       13400  1974  Germany         Tie  \n",
      "246   Group stage       25300  1974  Germany  Team 2 won  \n",
      "247   Group stage       53700  1974  Germany         Tie  \n",
      "248   Group stage       17400  1974  Germany         Tie  \n",
      "249   Group stage       60200  1974  Germany  Team 1 won  \n",
      "250   Group stage       56000  1974  Germany         Tie  \n",
      "251   Group stage       36200  1974  Germany  Team 2 won  \n",
      "252   Group stage       25900  1974  Germany  Team 1 won  \n",
      "253   Group stage       53300  1974  Germany  Team 2 won  \n",
      "254   Group stage       70100  1974  Germany  Team 1 won  \n",
      "255   Group stage       28300  1974  Germany  Team 1 won  \n",
      "256  Second round       59863  1974  Germany  Team 1 won  \n",
      "257  Second round       56548  1974  Germany  Team 1 won  \n",
      "258  Second round       44955  1974  Germany  Team 2 won  \n",
      "259  Second round       67385  1974  Germany  Team 2 won  \n",
      "260  Second round       39400  1974  Germany  Team 2 won  \n",
      "261  Second round       68348  1974  Germany  Team 2 won  \n",
      "262  Second round       67800  1974  Germany  Team 1 won  \n",
      "263  Second round       58000  1974  Germany  Team 1 won  \n",
      "264  Second round       54254  1974  Germany         Tie  \n",
      "265  Second round       53700  1974  Germany  Team 1 won  \n",
      "266  Second round       62000  1974  Germany  Team 2 won  \n",
      "267  Second round       41300  1974  Germany  Team 1 won  \n",
      "268   Third-place       77100  1974  Germany  Team 2 won  \n",
      "269         Final       78200  1974  Germany  Team 2 won  \u001b[0m\n"
     ]
    },
    {
     "name": "stdout",
     "output_type": "stream",
     "text": [
      "Thought:\u001b[32;1m\u001b[1;3m I now know the final answer\n",
      "Final Answer: The 1974 World Cup Final was won by the Netherlands, with a score of 2-1.\u001b[0m\n",
      "\n",
      "\u001b[1m> Finished chain.\u001b[0m\n"
     ]
    },
    {
     "data": {
      "text/plain": [
       "'The 1974 World Cup Final was won by the Netherlands, with a score of 2-1.'"
      ]
     },
     "execution_count": 31,
     "metadata": {},
     "output_type": "execute_result"
    }
   ],
   "source": [
    "q3c = \"who won the 1974 world cup final? what were the teams and the score?\"\n",
    "agent.run(q3c)"
   ]
  },
  {
   "cell_type": "code",
   "execution_count": null,
   "id": "5b28b3b0",
   "metadata": {},
   "outputs": [],
   "source": []
  },
  {
   "cell_type": "code",
   "execution_count": 33,
   "id": "07193259",
   "metadata": {},
   "outputs": [],
   "source": [
    "agent.agent.llm_chain.prompt.template =\\\n",
    "\"\"\"\n",
    "You are working with a pandas dataframe in Python. The name of the dataframe is `df`.\n",
    "You should interpret the columns of the dataframe as follows:\n",
    "\n",
    "1) Only answer questions related to the dataframe. For anything else, say you do not know.\n",
    "2) Each row of the dataframe corresponds to a match or game.\n",
    "3) The 'phase' column states the stage of the match within each tournament. For example if asked for the final match in a given world cup year, you can use the code \"df[df['year'] == year][df['phase'] == 'Final']\".\n",
    "4) Knockout matches are those that have any of the following values in the 'phase' column: 'Final','Third-place', 'Semi-Finals', 'Quarter-finals', 'Round of 16'.\n",
    "5) Teams and scores are associated by the terms 'team 1' or 'team 2'. For example, the column 'team 1' is always associated with the columns 'score team 1' and 'penalties team 1', and similarly for 'team 2'.\n",
    "6) To determine the winner of a match you must compare the columns 'score team 1' with 'score team 2', and for knockout matches, you may have to compare the columns 'penalties team 1' and 'penalties team 2'. If the value in 'score team 1' is bigger than 'score team 2' then the team in the 'team 1' column wins the match. If the value in 'score team 1' is smaller than 'score team 2' then the team in the 'team 2' column wins the match. If the value in column 'score team 1' is equal to the value in 'score team 2' then the game is a draw, unless it is a knockout match, in which case, the penalties columns need to be checked.\n",
    "7) In a knockout match, if the columns 'score team 1' with 'score team 2' are equal, the winner is determined by the penalties scores, for which you must look at the 'penalties team 1' and 'penalties team 2' columns. If the value in 'penalties team 1' is bigger than 'penalties team 2' then the team in the 'team 1' column wins the match. If the value in 'penalties team 1' is smaller than 'penalties team 2' then the team in the 'team 2' column wins the match.\n",
    "8) You only know about matches belonging to FIFA Men's Football World Cups. If asked about matches or games in any other tournament, competition or league, say you do not know.\n",
    "9) If you do not know the answer, just say I don' know.\n",
    "\n",
    "You should use the tools below and the instructions above to answer the question posed of you:\n",
    "\n",
    "python_repl_ast: A Python shell. Use this to execute python commands. Input should be a valid python command. When using this tool, sometimes output is abbreviated - make sure it does not look abbreviated before using it in your answer.\n",
    "\n",
    "Use the following format:\n",
    "\n",
    "Question: the input question you must answer\n",
    "Thought: you should always think about what to do\n",
    "Action: the action to take, should be one of [python_repl_ast]\n",
    "Action Input: the input to the action\n",
    "Observation: the result of the action\n",
    "... (this Thought/Action/Action Input/Observation can repeat N times)\n",
    "Thought: I now know the final answer\n",
    "Final Answer: the final answer to the original input question\n",
    "\n",
    "\n",
    "This is the result of `print(df.head())`:\n",
    "{df_head}\n",
    "\n",
    "Begin!\n",
    "Question: {input}\n",
    "{agent_scratchpad}\\\n",
    "\"\"\""
   ]
  },
  {
   "cell_type": "code",
   "execution_count": 34,
   "id": "4b1a5fbb",
   "metadata": {},
   "outputs": [
    {
     "data": {
      "text/plain": [
       "'\\nYou are working with a pandas dataframe in Python. The name of the dataframe is `df`.\\nYou should interpret the columns of the dataframe as follows:\\n\\n1) Only answer questions related to the dataframe. For anything else, say you do not know.\\n2) Each row of the dataframe corresponds to a match or game.\\n3) The \\'phase\\' column states the stage of the match within each tournament. For example if asked for the final match in a given world cup year, you can use the code \"df[df[\\'year\\'] == year][df[\\'phase\\'] == \\'Final\\']\".\\n4) Knockout matches are those that have any of the following values in the \\'phase\\' column: \\'Final\\',\\'Third-place\\', \\'Semi-Finals\\', \\'Quarter-finals\\', \\'Round of 16\\'.\\n5) Teams and scores are associated by the terms \\'team 1\\' or \\'team 2\\'. For example, the column \\'team 1\\' is always associated with the columns \\'score team 1\\' and \\'penalties team 1\\', and similarly for \\'team 2\\'.\\n6) To determine the winner of a match you must compare the columns \\'score team 1\\' with \\'score team 2\\', and for knockout matches, you may have to compare the columns \\'penalties team 1\\' and \\'penalties team 2\\'. If the value in \\'score team 1\\' is bigger than \\'score team 2\\' then the team in the \\'team 1\\' column wins the match. If the value in \\'score team 1\\' is smaller than \\'score team 2\\' then the team in the \\'team 2\\' column wins the match. If the value in column \\'score team 1\\' is equal to the value in \\'score team 2\\' then the game is a draw, unless it is a knockout match, in which case, the penalties columns need to be checked.\\n7) In a knockout match, if the columns \\'score team 1\\' with \\'score team 2\\' are equal, the winner is determined by the penalties scores, for which you must look at the \\'penalties team 1\\' and \\'penalties team 2\\' columns. If the value in \\'penalties team 1\\' is bigger than \\'penalties team 2\\' then the team in the \\'team 1\\' column wins the match. If the value in \\'penalties team 1\\' is smaller than \\'penalties team 2\\' then the team in the \\'team 2\\' column wins the match.\\n8) You only know about matches belonging to FIFA Men\\'s Football World Cups. If asked about matches or games in any other tournament, competition or league, say you do not know.\\n9) If you do not know the answer, just say I don\\' know.\\n\\nYou should use the tools below and the instructions above to answer the question posed of you:\\n\\npython_repl_ast: A Python shell. Use this to execute python commands. Input should be a valid python command. When using this tool, sometimes output is abbreviated - make sure it does not look abbreviated before using it in your answer.\\n\\nUse the following format:\\n\\nQuestion: the input question you must answer\\nThought: you should always think about what to do\\nAction: the action to take, should be one of [python_repl_ast]\\nAction Input: the input to the action\\nObservation: the result of the action\\n... (this Thought/Action/Action Input/Observation can repeat N times)\\nThought: I now know the final answer\\nFinal Answer: the final answer to the original input question\\n\\n\\nThis is the result of `print(df.head())`:\\n{df_head}\\n\\nBegin!\\nQuestion: {input}\\n{agent_scratchpad}'"
      ]
     },
     "execution_count": 34,
     "metadata": {},
     "output_type": "execute_result"
    }
   ],
   "source": [
    "agent.agent.llm_chain.prompt.template"
   ]
  },
  {
   "cell_type": "markdown",
   "id": "93ed94be",
   "metadata": {},
   "source": [
    "#### Now let's repeat the queries done before, using the new prompt"
   ]
  },
  {
   "cell_type": "code",
   "execution_count": 24,
   "id": "de97611f",
   "metadata": {},
   "outputs": [
    {
     "name": "stdout",
     "output_type": "stream",
     "text": [
      "\n",
      "\n",
      "\u001b[1m> Entering new AgentExecutor chain...\u001b[0m\n",
      "\u001b[32;1m\u001b[1;3mThought: I need to find the number of rows in the dataframe that correspond to the 1938 world cup\n",
      "Action: python_repl_ast\n",
      "Action Input: df[df['year'] == 1938].shape[0]\u001b[0m\n",
      "Observation: \u001b[36;1m\u001b[1;3m18\u001b[0m\n",
      "Thought:\u001b[32;1m\u001b[1;3m I now know the final answer\n",
      "Final Answer: There were 18 games in the 1938 world cup.\u001b[0m\n",
      "\n",
      "\u001b[1m> Finished chain.\u001b[0m\n"
     ]
    },
    {
     "data": {
      "text/plain": [
       "'There were 18 games in the 1938 world cup.'"
      ]
     },
     "execution_count": 24,
     "metadata": {},
     "output_type": "execute_result"
    }
   ],
   "source": [
    "# query 1 with new prompt\n",
    "agent.run(q1)   #  \"how many games were there in the 1938 world cup?\""
   ]
  },
  {
   "cell_type": "code",
   "execution_count": 36,
   "id": "c1dd5bc2",
   "metadata": {},
   "outputs": [
    {
     "name": "stdout",
     "output_type": "stream",
     "text": [
      "\n",
      "\n",
      "\u001b[1m> Entering new AgentExecutor chain...\u001b[0m\n",
      "\u001b[32;1m\u001b[1;3mThought: I need to look at the score and penalties columns.\n",
      "Action: python_repl_ast\n",
      "Action Input: print(df.head())\u001b[0m\n",
      "Observation: \u001b[36;1m\u001b[1;3m            tournament       date      team 1   team 2  score team 1  \\\n",
      "0  1930 FIFA World Cup  7/13/1930      France   Mexico             4   \n",
      "1  1930 FIFA World Cup  7/13/1930         USA  Belgium             3   \n",
      "2  1930 FIFA World Cup  7/14/1930     Romania     Peru             3   \n",
      "3  1930 FIFA World Cup  7/14/1930  Yugoslavia   Brazil             2   \n",
      "4  1930 FIFA World Cup  7/15/1930   Argentina   France             1   \n",
      "\n",
      "   score team 2 penalties team 1 penalties team 2     Location        phase  \\\n",
      "0             1             None             None  Montevideo   Group stage   \n",
      "1             0             None             None  Montevideo   Group stage   \n",
      "2             1             None             None  Montevideo   Group stage   \n",
      "3             1             None             None  Montevideo   Group stage   \n",
      "4             0             None             None  Montevideo   Group stage   \n",
      "\n",
      "   attendance  year     host      result  \n",
      "0        4444  1930  Uruguay  Team 1 won  \n",
      "1       18346  1930  Uruguay  Team 1 won  \n",
      "2        2549  1930  Uruguay  Team 1 won  \n",
      "3       24059  1930  Uruguay  Team 1 won  \n",
      "4       23409  1930  Uruguay  Team 1 won  \n",
      "\u001b[0m\n",
      "Thought:\u001b[32;1m\u001b[1;3m I now know how to determine the winner of a match.\n",
      "Final Answer: To determine the winner of a match, you must compare the columns 'score team 1' with 'score team 2', and for knockout matches, you may have to compare the columns 'penalties team 1' and 'penalties team 2'. If the value in 'score team 1' is bigger than 'score team 2' then the team in the 'team 1' column wins the match. If the value in 'score team 1' is smaller than 'score team 2' then the team in the 'team 2' column wins the match. If the value in column 'score team 1' is equal to the value in 'score team 2' then the game is a draw, unless it is a knockout match, in which case, the penalties columns need to be checked. In a knockout match, if the columns 'score team 1' with 'score team 2' are equal, the winner is determined by the penalties scores, for which you must look at the 'penalties team 1' and 'penalties team 2' columns. If the value in 'penalties team 1' is bigger than 'penalties team 2' then the team in the 'team 1' column\u001b[0m\n",
      "\n",
      "\u001b[1m> Finished chain.\u001b[0m\n"
     ]
    },
    {
     "data": {
      "text/plain": [
       "\"To determine the winner of a match, you must compare the columns 'score team 1' with 'score team 2', and for knockout matches, you may have to compare the columns 'penalties team 1' and 'penalties team 2'. If the value in 'score team 1' is bigger than 'score team 2' then the team in the 'team 1' column wins the match. If the value in 'score team 1' is smaller than 'score team 2' then the team in the 'team 2' column wins the match. If the value in column 'score team 1' is equal to the value in 'score team 2' then the game is a draw, unless it is a knockout match, in which case, the penalties columns need to be checked. In a knockout match, if the columns 'score team 1' with 'score team 2' are equal, the winner is determined by the penalties scores, for which you must look at the 'penalties team 1' and 'penalties team 2' columns. If the value in 'penalties team 1' is bigger than 'penalties team 2' then the team in the 'team 1' column\""
      ]
     },
     "execution_count": 36,
     "metadata": {},
     "output_type": "execute_result"
    }
   ],
   "source": [
    "# query 2a with new prompt\n",
    "agent.run(q2a)   # \"How do you know if a team won, lost or tied a match?\""
   ]
  },
  {
   "cell_type": "code",
   "execution_count": 37,
   "id": "6c5b26ab",
   "metadata": {},
   "outputs": [
    {
     "name": "stdout",
     "output_type": "stream",
     "text": [
      "\n",
      "\n",
      "\u001b[1m> Entering new AgentExecutor chain...\u001b[0m\n",
      "\u001b[32;1m\u001b[1;3mThought: I need to find the number of rows in the dataframe that correspond to the 1938 world cup\n",
      "Action: python_repl_ast\n",
      "Action Input: df[df['year'] == 1938].shape[0]\u001b[0m\n",
      "Observation: \u001b[36;1m\u001b[1;3m18\u001b[0m\n",
      "Thought:\u001b[32;1m\u001b[1;3m I now know the final answer\n",
      "Final Answer: There were 18 games in the 1938 world cup.\u001b[0m\n",
      "\n",
      "\u001b[1m> Finished chain.\u001b[0m\n",
      "Spent a total of 2369 tokens\n"
     ]
    },
    {
     "data": {
      "text/plain": [
       "'There were 18 games in the 1938 world cup.'"
      ]
     },
     "execution_count": 37,
     "metadata": {},
     "output_type": "execute_result"
    }
   ],
   "source": [
    "count_tokens(agent, q1)   # \"how many games were there in the 1938 world cup?\""
   ]
  },
  {
   "cell_type": "code",
   "execution_count": 27,
   "id": "4c55b86b",
   "metadata": {},
   "outputs": [
    {
     "name": "stdout",
     "output_type": "stream",
     "text": [
      "\n",
      "\n",
      "\u001b[1m> Entering new AgentExecutor chain...\u001b[0m\n",
      "\u001b[32;1m\u001b[1;3mThought: I need to find the match with the 'phase' column equal to 'Final'.\n",
      "Action: python_repl_ast\n",
      "Action Input: df[df['phase'] == 'Final']\u001b[0m\n",
      "Observation: \u001b[36;1m\u001b[1;3m              tournament        date        team 1          team 2  \\\n",
      "17   1930 FIFA World Cup   7/30/1930       Uruguay       Argentina   \n",
      "34   1934 FIFA World Cup   6/10/1934         Italy  Czechoslovakia   \n",
      "52   1938 FIFA World Cup   6/19/1938         Italy         Hungary   \n",
      "74   1950 FIFA World Cup   7/16/1950       Uruguay          Brazil   \n",
      "100  1954 FIFA World Cup    7/4/1954  West Germany         Hungary   \n",
      "135  1958 FIFA World Cup   6/29/1958        Brazil          Sweden   \n",
      "167  1962 FIFA World Cup   6/17/1962        Brazil  Czechoslovakia   \n",
      "199  1966 FIFA World Cup   7/30/1966       England    West Germany   \n",
      "231  1970 FIFA World Cup   6/21/1970        Brazil           Italy   \n",
      "269  1974 FIFA World Cup    7/7/1974   Netherlands    West Germany   \n",
      "307  1978 FIFA World Cup   6/25/1978     Argentina     Netherlands   \n",
      "359  1982 FIFA World Cup   7/11/1982         Italy    West Germany   \n",
      "411  1986 FIFA World Cup   6/29/1986     Argentina    West Germany   \n",
      "463  1990 FIFA World Cup    7/8/1990  West Germany       Argentina   \n",
      "515  1994 FIFA World Cup   7/17/1994        Brazil           Italy   \n",
      "579  1998 FIFA World Cup   7/12/1998        Brazil          France   \n",
      "643  2002 FIFA World Cup   6/30/2002       Germany          Brazil   \n",
      "707  2006 FIFA World Cup    7/9/2006         Italy          France   \n",
      "771  2010 FIFA World Cup   7/11/2010   Netherlands           Spain   \n",
      "835  2014 FIFA World Cup   7/13/2014       Germany       Argentina   \n",
      "899  2018 FIFA World Cup   7/15/2018        France         Croatia   \n",
      "963  2022 FIFA World Cup  12/18/2022    Argentina           France   \n",
      "\n",
      "     score team 1  score team 2 penalties team 1 penalties team 2  \\\n",
      "17              4             2             None             None   \n",
      "34              2             1             None             None   \n",
      "52              4             2             None             None   \n",
      "74              2             1             None             None   \n",
      "100             3             2             None             None   \n",
      "135             5             2             None             None   \n",
      "167             3             1             None             None   \n",
      "199             4             2             None             None   \n",
      "231             4             1             None             None   \n",
      "269             1             2             None             None   \n",
      "307             3             1             None             None   \n",
      "359             3             1             None             None   \n",
      "411             3             2             None             None   \n",
      "463             1             0             None             None   \n",
      "515             0             0                3                2   \n",
      "579             0             3             None             None   \n",
      "643             0             2             None             None   \n",
      "707             1             1                5                3   \n",
      "771             0             1             None             None   \n",
      "835             1             0             None             None   \n",
      "899             4             2             None             None   \n",
      "963             3             3                4                2   \n",
      "\n",
      "               Location  phase  attendance  year          host      result  \n",
      "17          Montevideo   Final       68346  1930       Uruguay  Team 1 won  \n",
      "34                Rome   Final       55000  1934         Italy  Team 1 won  \n",
      "52      Paris/Colombes   Final       45000  1938        France  Team 1 won  \n",
      "74      Rio De Janeiro   Final      173850  1950        Brazil  Team 1 won  \n",
      "100              Berne   Final       62500  1954   Switzerland  Team 1 won  \n",
      "135              Solna   Final       49737  1958        Sweden  Team 1 won  \n",
      "167  Santiago De Chile   Final       68679  1962         Chile  Team 1 won  \n",
      "199             London   Final       96924  1966       England  Team 1 won  \n",
      "231        Mexico City   Final      107412  1970        Mexico  Team 1 won  \n",
      "269             Munich   Final       78200  1974       Germany  Team 2 won  \n",
      "307       Buenos Aires   Final       71483  1978     Argentina  Team 1 won  \n",
      "359             Madrid   Final       90000  1982         Spain  Team 1 won  \n",
      "411        Mexico City   Final      114600  1986        Mexico  Team 1 won  \n",
      "463               Rome   Final       73603  1990         Italy  Team 1 won  \n",
      "515        Los Angeles   Final       94194  1994           USA         Tie  \n",
      "579        Saint-Denis   Final       80000  1998        France  Team 2 won  \n",
      "643           Yokohama   Final       69029  2002   Korea/Japan  Team 2 won  \n",
      "707             Berlin   Final       69000  2006       Germany         Tie  \n",
      "771        Johannesburg  Final       84490  2010  South Africa  Team 2 won  \n",
      "835      Rio de Janeiro  Final       74738  2014        Brazil  Team 1 won  \n",
      "899              Moscow  Final       78011  2018        Russia  Team 1 won  \n",
      "963               Qatar  Final       88966  2022         Qatar         Tie  \u001b[0m\n",
      "Thought:\u001b[32;1m\u001b[1;3m I now know the final answer\n",
      "Final Answer: The decision match in any one world cup is the match with the 'phase' column equal to 'Final'.\u001b[0m\n",
      "\n",
      "\u001b[1m> Finished chain.\u001b[0m\n"
     ]
    },
    {
     "data": {
      "text/plain": [
       "\"The decision match in any one world cup is the match with the 'phase' column equal to 'Final'.\""
      ]
     },
     "execution_count": 27,
     "metadata": {},
     "output_type": "execute_result"
    }
   ],
   "source": [
    "# query 2b with new prompt\n",
    "agent.run(q2b)   # \"Given the matches in any one world cup, how do you know which one is the decision match?\""
   ]
  },
  {
   "cell_type": "code",
   "execution_count": 28,
   "id": "92625733",
   "metadata": {},
   "outputs": [
    {
     "name": "stdout",
     "output_type": "stream",
     "text": [
      "\n",
      "\n",
      "\u001b[1m> Entering new AgentExecutor chain...\u001b[0m\n",
      "\u001b[32;1m\u001b[1;3mThought: I need to look at the penalties scores.\n",
      "Action: python_repl_ast\n",
      "Action Input: df[df['phase'] == 'Final']\u001b[0m\n",
      "Observation: \u001b[36;1m\u001b[1;3m              tournament        date        team 1          team 2  \\\n",
      "17   1930 FIFA World Cup   7/30/1930       Uruguay       Argentina   \n",
      "34   1934 FIFA World Cup   6/10/1934         Italy  Czechoslovakia   \n",
      "52   1938 FIFA World Cup   6/19/1938         Italy         Hungary   \n",
      "74   1950 FIFA World Cup   7/16/1950       Uruguay          Brazil   \n",
      "100  1954 FIFA World Cup    7/4/1954  West Germany         Hungary   \n",
      "135  1958 FIFA World Cup   6/29/1958        Brazil          Sweden   \n",
      "167  1962 FIFA World Cup   6/17/1962        Brazil  Czechoslovakia   \n",
      "199  1966 FIFA World Cup   7/30/1966       England    West Germany   \n",
      "231  1970 FIFA World Cup   6/21/1970        Brazil           Italy   \n",
      "269  1974 FIFA World Cup    7/7/1974   Netherlands    West Germany   \n",
      "307  1978 FIFA World Cup   6/25/1978     Argentina     Netherlands   \n",
      "359  1982 FIFA World Cup   7/11/1982         Italy    West Germany   \n",
      "411  1986 FIFA World Cup   6/29/1986     Argentina    West Germany   \n",
      "463  1990 FIFA World Cup    7/8/1990  West Germany       Argentina   \n",
      "515  1994 FIFA World Cup   7/17/1994        Brazil           Italy   \n",
      "579  1998 FIFA World Cup   7/12/1998        Brazil          France   \n",
      "643  2002 FIFA World Cup   6/30/2002       Germany          Brazil   \n",
      "707  2006 FIFA World Cup    7/9/2006         Italy          France   \n",
      "771  2010 FIFA World Cup   7/11/2010   Netherlands           Spain   \n",
      "835  2014 FIFA World Cup   7/13/2014       Germany       Argentina   \n",
      "899  2018 FIFA World Cup   7/15/2018        France         Croatia   \n",
      "963  2022 FIFA World Cup  12/18/2022    Argentina           France   \n",
      "\n",
      "     score team 1  score team 2 penalties team 1 penalties team 2  \\\n",
      "17              4             2             None             None   \n",
      "34              2             1             None             None   \n",
      "52              4             2             None             None   \n",
      "74              2             1             None             None   \n",
      "100             3             2             None             None   \n",
      "135             5             2             None             None   \n",
      "167             3             1             None             None   \n",
      "199             4             2             None             None   \n",
      "231             4             1             None             None   \n",
      "269             1             2             None             None   \n",
      "307             3             1             None             None   \n",
      "359             3             1             None             None   \n",
      "411             3             2             None             None   \n",
      "463             1             0             None             None   \n",
      "515             0             0                3                2   \n",
      "579             0             3             None             None   \n",
      "643             0             2             None             None   \n",
      "707             1             1                5                3   \n",
      "771             0             1             None             None   \n",
      "835             1             0             None             None   \n",
      "899             4             2             None             None   \n",
      "963             3             3                4                2   \n",
      "\n",
      "               Location  phase  attendance  year          host      result  \n",
      "17          Montevideo   Final       68346  1930       Uruguay  Team 1 won  \n",
      "34                Rome   Final       55000  1934         Italy  Team 1 won  \n",
      "52      Paris/Colombes   Final       45000  1938        France  Team 1 won  \n",
      "74      Rio De Janeiro   Final      173850  1950        Brazil  Team 1 won  \n",
      "100              Berne   Final       62500  1954   Switzerland  Team 1 won  \n",
      "135              Solna   Final       49737  1958        Sweden  Team 1 won  \n",
      "167  Santiago De Chile   Final       68679  1962         Chile  Team 1 won  \n",
      "199             London   Final       96924  1966       England  Team 1 won  \n",
      "231        Mexico City   Final      107412  1970        Mexico  Team 1 won  \n",
      "269             Munich   Final       78200  1974       Germany  Team 2 won  \n",
      "307       Buenos Aires   Final       71483  1978     Argentina  Team 1 won  \n",
      "359             Madrid   Final       90000  1982         Spain  Team 1 won  \n",
      "411        Mexico City   Final      114600  1986        Mexico  Team 1 won  \n",
      "463               Rome   Final       73603  1990         Italy  Team 1 won  \n",
      "515        Los Angeles   Final       94194  1994           USA         Tie  \n",
      "579        Saint-Denis   Final       80000  1998        France  Team 2 won  \n",
      "643           Yokohama   Final       69029  2002   Korea/Japan  Team 2 won  \n",
      "707             Berlin   Final       69000  2006       Germany         Tie  \n",
      "771        Johannesburg  Final       84490  2010  South Africa  Team 2 won  \n",
      "835      Rio de Janeiro  Final       74738  2014        Brazil  Team 1 won  \n",
      "899              Moscow  Final       78011  2018        Russia  Team 1 won  \n",
      "963               Qatar  Final       88966  2022         Qatar         Tie  \u001b[0m\n",
      "Thought:\u001b[32;1m\u001b[1;3m I now know the final answer.\n",
      "Final Answer: In a final match, if the team scores are equal, the winner is determined by the penalties scores. If the value in 'penalties team 1' is bigger than 'penalties team 2' then the team in the 'team 1' column wins the match. If the value in 'penalties team 1' is smaller than 'penalties team 2' then the team in the 'team 2' column wins the match.\u001b[0m\n",
      "\n",
      "\u001b[1m> Finished chain.\u001b[0m\n"
     ]
    },
    {
     "data": {
      "text/plain": [
       "\"In a final match, if the team scores are equal, the winner is determined by the penalties scores. If the value in 'penalties team 1' is bigger than 'penalties team 2' then the team in the 'team 1' column wins the match. If the value in 'penalties team 1' is smaller than 'penalties team 2' then the team in the 'team 2' column wins the match.\""
      ]
     },
     "execution_count": 28,
     "metadata": {},
     "output_type": "execute_result"
    }
   ],
   "source": [
    "# query 2c wiht new prompt\n",
    "agent.run(q2c)   # \"In a final match, how do you know if a team won or lost a match if the team scores are equal?\""
   ]
  },
  {
   "cell_type": "code",
   "execution_count": 38,
   "id": "144f6fd7",
   "metadata": {},
   "outputs": [
    {
     "name": "stdout",
     "output_type": "stream",
     "text": [
      "\n",
      "\n",
      "\u001b[1m> Entering new AgentExecutor chain...\u001b[0m\n",
      "\u001b[32;1m\u001b[1;3mThought: I need to find the match with the year 1994 and phase 'Final'\n",
      "Action: python_repl_ast\n",
      "Action Input: df[df['year'] == 1994][df['phase'] == 'Final']\u001b[0m\n",
      "Observation: \u001b[36;1m\u001b[1;3m              tournament       date  team 1 team 2  score team 1  \\\n",
      "515  1994 FIFA World Cup  7/17/1994  Brazil  Italy             0   \n",
      "\n",
      "     score team 2 penalties team 1 penalties team 2      Location  phase  \\\n",
      "515             0                3                2  Los Angeles   Final   \n",
      "\n",
      "     attendance  year host result  \n",
      "515       94194  1994  USA    Tie  \u001b[0m\n",
      "Thought:"
     ]
    },
    {
     "name": "stderr",
     "output_type": "stream",
     "text": [
      "<string>:1: UserWarning: Boolean Series key will be reindexed to match DataFrame index.\n"
     ]
    },
    {
     "name": "stdout",
     "output_type": "stream",
     "text": [
      "\u001b[32;1m\u001b[1;3m I now know the final answer\n",
      "Final Answer: The 1994 FIFA World Cup Final was a tie between Brazil and Italy, with a score of 0-0 and a penalty score of 3-2 in favor of Brazil.\u001b[0m\n",
      "\n",
      "\u001b[1m> Finished chain.\u001b[0m\n"
     ]
    },
    {
     "data": {
      "text/plain": [
       "'The 1994 FIFA World Cup Final was a tie between Brazil and Italy, with a score of 0-0 and a penalty score of 3-2 in favor of Brazil.'"
      ]
     },
     "execution_count": 38,
     "metadata": {},
     "output_type": "execute_result"
    }
   ],
   "source": [
    "# query 3a with new prompt\n",
    "agent.run(q3a)   # \"who won the 1994 world cup final? what were the teams and the score?\""
   ]
  },
  {
   "cell_type": "code",
   "execution_count": 40,
   "id": "95a7c3ec",
   "metadata": {},
   "outputs": [
    {
     "name": "stdout",
     "output_type": "stream",
     "text": [
      "\n",
      "\n",
      "\u001b[1m> Entering new AgentExecutor chain...\u001b[0m\n",
      "\u001b[32;1m\u001b[1;3mThought: I need to find the match with the phase 'Final' and the year 1994.\n",
      "Action: python_repl_ast\n",
      "Action Input: df[df['year'] == 1994][df['phase'] == 'Final']\u001b[0m\n",
      "Observation: \u001b[36;1m\u001b[1;3m              tournament       date  team 1 team 2  score team 1  \\\n",
      "515  1994 FIFA World Cup  7/17/1994  Brazil  Italy             0   \n",
      "\n",
      "     score team 2 penalties team 1 penalties team 2      Location  phase  \\\n",
      "515             0                3                2  Los Angeles   Final   \n",
      "\n",
      "     attendance  year host result  \n",
      "515       94194  1994  USA    Tie  \u001b[0m\n",
      "Thought:"
     ]
    },
    {
     "name": "stderr",
     "output_type": "stream",
     "text": [
      "<string>:1: UserWarning: Boolean Series key will be reindexed to match DataFrame index.\n"
     ]
    },
    {
     "name": "stdout",
     "output_type": "stream",
     "text": [
      "\u001b[32;1m\u001b[1;3m I now know the final match of the 1994 world cup.\n",
      "Action: python_repl_ast\n",
      "Action Input: df[df['year'] == 1994][df['phase'] == 'Final'][['team 1', 'team 2', 'score team 1', 'score team 2', 'penalties team 1', 'penalties team 2']]\u001b[0m\n",
      "Observation: \u001b[36;1m\u001b[1;3m     team 1 team 2  score team 1  score team 2 penalties team 1  \\\n",
      "515  Brazil  Italy             0             0                3   \n",
      "\n",
      "    penalties team 2  \n",
      "515                2  \u001b[0m\n",
      "Thought:"
     ]
    },
    {
     "name": "stderr",
     "output_type": "stream",
     "text": [
      "<string>:1: UserWarning: Boolean Series key will be reindexed to match DataFrame index.\n"
     ]
    },
    {
     "name": "stdout",
     "output_type": "stream",
     "text": [
      "\u001b[32;1m\u001b[1;3m I now know the teams, the score and the winner of the final match of the 1994 world cup.\n",
      "Final Answer: The final match of the 1994 world cup was between Brazil and Italy, the score was 0-0 and the winner was Brazil after a penalty shootout (3-2).\u001b[0m\n",
      "\n",
      "\u001b[1m> Finished chain.\u001b[0m\n"
     ]
    },
    {
     "data": {
      "text/plain": [
       "'The final match of the 1994 world cup was between Brazil and Italy, the score was 0-0 and the winner was Brazil after a penalty shootout (3-2).'"
      ]
     },
     "execution_count": 40,
     "metadata": {},
     "output_type": "execute_result"
    }
   ],
   "source": [
    "# query 3b with new prompt\n",
    "agent.run(q3b)  # \"What was the final match of the 1994 world cup, what were the teams, the score and the winner?\""
   ]
  },
  {
   "cell_type": "code",
   "execution_count": 39,
   "id": "0d43159e",
   "metadata": {},
   "outputs": [
    {
     "name": "stdout",
     "output_type": "stream",
     "text": [
      "\n",
      "\n",
      "\u001b[1m> Entering new AgentExecutor chain...\u001b[0m\n",
      "\u001b[32;1m\u001b[1;3mThought: I need to find the match with the year 1994 and phase 'Final'\n",
      "Action: python_repl_ast\n",
      "Action Input: df[df['year'] == 1994][df['phase'] == 'Final']\u001b[0m\n",
      "Observation: \u001b[36;1m\u001b[1;3m              tournament       date  team 1 team 2  score team 1  \\\n",
      "515  1994 FIFA World Cup  7/17/1994  Brazil  Italy             0   \n",
      "\n",
      "     score team 2 penalties team 1 penalties team 2      Location  phase  \\\n",
      "515             0                3                2  Los Angeles   Final   \n",
      "\n",
      "     attendance  year host result  \n",
      "515       94194  1994  USA    Tie  \u001b[0m\n",
      "Thought:"
     ]
    },
    {
     "name": "stderr",
     "output_type": "stream",
     "text": [
      "<string>:1: UserWarning: Boolean Series key will be reindexed to match DataFrame index.\n"
     ]
    },
    {
     "name": "stdout",
     "output_type": "stream",
     "text": [
      "\u001b[32;1m\u001b[1;3m I now know the final answer\n",
      "Final Answer: The 1994 FIFA World Cup Final was a tie between Brazil and Italy, with a score of 0-0 and a penalty score of 3-2 in favor of Brazil.\u001b[0m\n",
      "\n",
      "\u001b[1m> Finished chain.\u001b[0m\n",
      "Spent a total of 2488 tokens\n"
     ]
    },
    {
     "data": {
      "text/plain": [
       "'The 1994 FIFA World Cup Final was a tie between Brazil and Italy, with a score of 0-0 and a penalty score of 3-2 in favor of Brazil.'"
      ]
     },
     "execution_count": 39,
     "metadata": {},
     "output_type": "execute_result"
    }
   ],
   "source": [
    "count_tokens(agent,q3a)  # \"who won the 1994 world cup final? what were the teams and the score?\""
   ]
  },
  {
   "cell_type": "code",
   "execution_count": 42,
   "id": "f4d0db6b",
   "metadata": {},
   "outputs": [
    {
     "name": "stdout",
     "output_type": "stream",
     "text": [
      "\n",
      "\n",
      "\u001b[1m> Entering new AgentExecutor chain...\u001b[0m\n",
      "\u001b[32;1m\u001b[1;3mThought: I need to find the match with the year 1974 and phase 'Final'\n",
      "Action: python_repl_ast\n",
      "Action Input: df[df['year'] == 1974][df['phase'] == 'Final']\u001b[0m\n",
      "Observation: \u001b[36;1m\u001b[1;3m              tournament      date       team 1        team 2  score team 1  \\\n",
      "269  1974 FIFA World Cup  7/7/1974  Netherlands  West Germany             1   \n",
      "\n",
      "     score team 2 penalties team 1 penalties team 2 Location  phase  \\\n",
      "269             2             None             None  Munich   Final   \n",
      "\n",
      "     attendance  year     host      result  \n",
      "269       78200  1974  Germany  Team 2 won  \u001b[0m\n",
      "Thought:"
     ]
    },
    {
     "name": "stderr",
     "output_type": "stream",
     "text": [
      "<string>:1: UserWarning: Boolean Series key will be reindexed to match DataFrame index.\n"
     ]
    },
    {
     "name": "stdout",
     "output_type": "stream",
     "text": [
      "\u001b[32;1m\u001b[1;3m I now know the final answer\n",
      "Final Answer: The 1974 FIFA World Cup Final was won by West Germany, with a score of 1-2.\u001b[0m\n",
      "\n",
      "\u001b[1m> Finished chain.\u001b[0m\n"
     ]
    },
    {
     "data": {
      "text/plain": [
       "'The 1974 FIFA World Cup Final was won by West Germany, with a score of 1-2.'"
      ]
     },
     "execution_count": 42,
     "metadata": {},
     "output_type": "execute_result"
    }
   ],
   "source": [
    "# query 3c with new prompt\n",
    "agent.run(q3c)  # \"who won the 1974 world cup final? what were the teams and the score?\""
   ]
  },
  {
   "cell_type": "code",
   "execution_count": 43,
   "id": "7897ad99",
   "metadata": {},
   "outputs": [
    {
     "name": "stdout",
     "output_type": "stream",
     "text": [
      "\n",
      "\n",
      "\u001b[1m> Entering new AgentExecutor chain...\u001b[0m\n",
      "\u001b[32;1m\u001b[1;3mThought: I need to find all the matches Italy played in the 1938 world cup\n",
      "Action: python_repl_ast\n",
      "Action Input: df[df['year'] == 1938][df['team 1'] == 'Italy']['score team 1'].sum() + df[df['year'] == 1938][df['team 2'] == 'Italy']['score team 2'].sum()\u001b[0m\n",
      "Observation: \u001b[36;1m\u001b[1;3m11\u001b[0m\n",
      "Thought:"
     ]
    },
    {
     "name": "stderr",
     "output_type": "stream",
     "text": [
      "<string>:1: UserWarning: Boolean Series key will be reindexed to match DataFrame index.\n"
     ]
    },
    {
     "name": "stdout",
     "output_type": "stream",
     "text": [
      "\u001b[32;1m\u001b[1;3m I now know the final answer\n",
      "Final Answer: Italy scored 11 goals in all its matches in the 1938 world cup.\u001b[0m\n",
      "\n",
      "\u001b[1m> Finished chain.\u001b[0m\n"
     ]
    },
    {
     "data": {
      "text/plain": [
       "'Italy scored 11 goals in all its matches in the 1938 world cup.'"
      ]
     },
     "execution_count": 43,
     "metadata": {},
     "output_type": "execute_result"
    }
   ],
   "source": [
    "q4a = \"how many goals did Italy score in all its matches in the 1938 world cup?\"\n",
    "agent.run(q4a)   # new prompt"
   ]
  },
  {
   "cell_type": "code",
   "execution_count": 44,
   "id": "2b27a95a",
   "metadata": {},
   "outputs": [
    {
     "name": "stdout",
     "output_type": "stream",
     "text": [
      "\n",
      "\n",
      "\u001b[1m> Entering new AgentExecutor chain...\u001b[0m\n",
      "\u001b[32;1m\u001b[1;3mThought: I need to find all the matches Italy played in the 1938 world cup\n",
      "Action: python_repl_ast\n",
      "Action Input: df[df['year'] == 1938][df['team 1'] == 'Italy']['score team 2'].sum() + df[df['year'] == 1938][df['team 2'] == 'Italy']['score team 1'].sum()\u001b[0m\n",
      "Observation: \u001b[36;1m\u001b[1;3m5\u001b[0m\n",
      "Thought:"
     ]
    },
    {
     "name": "stderr",
     "output_type": "stream",
     "text": [
      "<string>:1: UserWarning: Boolean Series key will be reindexed to match DataFrame index.\n"
     ]
    },
    {
     "name": "stdout",
     "output_type": "stream",
     "text": [
      "\u001b[32;1m\u001b[1;3m I now know the final answer\n",
      "Final Answer: Italy suffered 5 goals in all its matches of the 1938 world cup.\u001b[0m\n",
      "\n",
      "\u001b[1m> Finished chain.\u001b[0m\n"
     ]
    },
    {
     "data": {
      "text/plain": [
       "'Italy suffered 5 goals in all its matches of the 1938 world cup.'"
      ]
     },
     "execution_count": 44,
     "metadata": {},
     "output_type": "execute_result"
    }
   ],
   "source": [
    "q4b = \"how many goals did Italy suffer in all its matches of the 1938 world cup?\"\n",
    "agent.run(q4b)   # new prompt"
   ]
  },
  {
   "cell_type": "code",
   "execution_count": 45,
   "id": "4fdd6952",
   "metadata": {},
   "outputs": [
    {
     "name": "stdout",
     "output_type": "stream",
     "text": [
      "\n",
      "\n",
      "\u001b[1m> Entering new AgentExecutor chain...\u001b[0m\n",
      "\u001b[32;1m\u001b[1;3mThought: I need to find all the matches from the 1970 world cup and add up the goals scored\n",
      "Action: python_repl_ast\n",
      "Action Input: df[df['year'] == 1970]['score team 1'].sum() + df[df['year'] == 1970]['score team 2'].sum()\u001b[0m\n",
      "Observation: \u001b[36;1m\u001b[1;3m95\u001b[0m\n",
      "Thought:\u001b[32;1m\u001b[1;3m I now know the final answer\n",
      "Final Answer: 95 goals were scored in total during the 1970 world cup.\u001b[0m\n",
      "\n",
      "\u001b[1m> Finished chain.\u001b[0m\n"
     ]
    },
    {
     "data": {
      "text/plain": [
       "'95 goals were scored in total during the 1970 world cup.'"
      ]
     },
     "execution_count": 45,
     "metadata": {},
     "output_type": "execute_result"
    }
   ],
   "source": [
    "q4c = \"how many goals were scored in total during the 1970 world cup?\"\n",
    "agent.run(q4c)     # new prompt"
   ]
  },
  {
   "cell_type": "code",
   "execution_count": 46,
   "id": "294ac389",
   "metadata": {},
   "outputs": [
    {
     "name": "stdout",
     "output_type": "stream",
     "text": [
      "\n",
      "\n",
      "\u001b[1m> Entering new AgentExecutor chain...\u001b[0m\n",
      "\u001b[32;1m\u001b[1;3mThought: I need to find all the matches from the 2022 world cup and add up the goals scored in each match\n",
      "Action: python_repl_ast\n",
      "Action Input: df[df['year'] == 2022]['score team 1'].sum() + df[df['year'] == 2022]['score team 2'].sum() + df[df['year'] == 2022]['penalties team 1'].sum() + df[df['year'] == 2022]['penalties team 2'].sum()\u001b[0m\n",
      "Observation: \u001b[36;1m\u001b[1;3m198\u001b[0m\n",
      "Thought:\u001b[32;1m\u001b[1;3m I now know the final answer\n",
      "Final Answer: 198 goals were scored in total, including penalties, during the 2022 world cup.\u001b[0m\n",
      "\n",
      "\u001b[1m> Finished chain.\u001b[0m\n"
     ]
    },
    {
     "data": {
      "text/plain": [
       "'198 goals were scored in total, including penalties, during the 2022 world cup.'"
      ]
     },
     "execution_count": 46,
     "metadata": {},
     "output_type": "execute_result"
    }
   ],
   "source": [
    "q4d = \"how many goals were scored in total, including penalties, during the 2022 world cup?\"\n",
    "agent.run(q4d)   # new prompt"
   ]
  },
  {
   "cell_type": "code",
   "execution_count": 51,
   "id": "28d29044",
   "metadata": {},
   "outputs": [
    {
     "name": "stdout",
     "output_type": "stream",
     "text": [
      "\n",
      "\n",
      "\u001b[1m> Entering new AgentExecutor chain...\u001b[0m\n",
      "\u001b[32;1m\u001b[1;3mThought: I need to find the world cup with the most goals scored and the total number of goals scored.\n",
      "Action: python_repl_ast\n",
      "Action Input: df.groupby('year')['score team 1', 'score team 2'].sum().sort_values(by=['score team 1', 'score team 2'], ascending=False).head(1)\u001b[0m\n",
      "Observation: \u001b[36;1m\u001b[1;3m      score team 1  score team 2\n",
      "year                            \n",
      "1954           109            31\u001b[0m\n",
      "Thought:"
     ]
    },
    {
     "name": "stderr",
     "output_type": "stream",
     "text": [
      "<string>:1: FutureWarning: Indexing with multiple keys (implicitly converted to a tuple of keys) will be deprecated, use a list instead.\n"
     ]
    },
    {
     "name": "stdout",
     "output_type": "stream",
     "text": [
      "\u001b[32;1m\u001b[1;3m I now know the final answer\n",
      "Final Answer: The 1954 FIFA World Cup holds the record for most goals scored with a total of 140 goals.\u001b[0m\n",
      "\n",
      "\u001b[1m> Finished chain.\u001b[0m\n"
     ]
    },
    {
     "data": {
      "text/plain": [
       "'The 1954 FIFA World Cup holds the record for most goals scored with a total of 140 goals.'"
      ]
     },
     "execution_count": 51,
     "metadata": {},
     "output_type": "execute_result"
    }
   ],
   "source": [
    "q4e = \"Which world cup holds the record for most goals scored, and what is the record?\"\n",
    "agent.run(q4e)   # new prompt"
   ]
  },
  {
   "cell_type": "code",
   "execution_count": 52,
   "id": "68894729",
   "metadata": {},
   "outputs": [
    {
     "name": "stdout",
     "output_type": "stream",
     "text": [
      "\n",
      "\n",
      "\u001b[1m> Entering new AgentExecutor chain...\u001b[0m\n",
      "\u001b[32;1m\u001b[1;3mThought: I do not know anything about the Champions League\n",
      "Final Answer: I do not know.\u001b[0m\n",
      "\n",
      "\u001b[1m> Finished chain.\u001b[0m\n"
     ]
    },
    {
     "data": {
      "text/plain": [
       "'I do not know.'"
      ]
     },
     "execution_count": 52,
     "metadata": {},
     "output_type": "execute_result"
    }
   ],
   "source": [
    "# This query is just to check if the model is really only looking at the CSV/dataframe that was passed in to the agent.\n",
    "agent.run(\"who won the 'Champions League' final match in 2022?\")"
   ]
  },
  {
   "cell_type": "code",
   "execution_count": 53,
   "id": "9662a970",
   "metadata": {},
   "outputs": [
    {
     "name": "stdout",
     "output_type": "stream",
     "text": [
      "\n",
      "\n",
      "\u001b[1m> Entering new AgentExecutor chain...\u001b[0m\n",
      "\u001b[32;1m\u001b[1;3mThought: This question is not related to the dataframe.\n",
      "Action: I do not know.\n",
      "Final Answer: I do not know.\u001b[0m\n",
      "\n",
      "\u001b[1m> Finished chain.\u001b[0m\n"
     ]
    },
    {
     "data": {
      "text/plain": [
       "'I do not know.'"
      ]
     },
     "execution_count": 53,
     "metadata": {},
     "output_type": "execute_result"
    }
   ],
   "source": [
    "# This query is just to check if the model is really only looking at the CSV/dataframe that was passed in to the agent.\n",
    "agent.run(\"when was the US discovered?\")"
   ]
  },
  {
   "cell_type": "code",
   "execution_count": null,
   "id": "7fc8ad3e",
   "metadata": {},
   "outputs": [],
   "source": []
  }
 ],
 "metadata": {
  "kernelspec": {
   "display_name": "Python 3 (ipykernel)",
   "language": "python",
   "name": "python3"
  },
  "language_info": {
   "codemirror_mode": {
    "name": "ipython",
    "version": 3
   },
   "file_extension": ".py",
   "mimetype": "text/x-python",
   "name": "python",
   "nbconvert_exporter": "python",
   "pygments_lexer": "ipython3",
   "version": "3.9.13"
  }
 },
 "nbformat": 4,
 "nbformat_minor": 5
}
